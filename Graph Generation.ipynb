{
 "cells": [
  {
   "cell_type": "code",
   "execution_count": 1,
   "metadata": {},
   "outputs": [],
   "source": [
    "import pandas as pd\n",
    "import os\n",
    "import datetime"
   ]
  },
  {
   "cell_type": "code",
   "execution_count": 2,
   "metadata": {},
   "outputs": [],
   "source": [
    "PATH = 'Crowd/resultados/'"
   ]
  },
  {
   "cell_type": "code",
   "execution_count": 3,
   "metadata": {},
   "outputs": [
    {
     "data": {
      "text/plain": [
       "23"
      ]
     },
     "execution_count": 3,
     "metadata": {},
     "output_type": "execute_result"
    }
   ],
   "source": [
    "seeds = [f for f in os.listdir(PATH) if not f.startswith('.') and not f.endswith('.csv')]\n",
    "len(seeds)"
   ]
  },
  {
   "cell_type": "markdown",
   "metadata": {},
   "source": [
    "## 1st degree "
   ]
  },
  {
   "cell_type": "code",
   "execution_count": 4,
   "metadata": {},
   "outputs": [
    {
     "name": "stdout",
     "output_type": "stream",
     "text": [
      "Current seed: cabrera_kevin\n",
      "['1st-degree_2018-05-20_1505.csv']\n",
      "Total records: 83\n",
      "========================\n",
      "========================\n",
      "Current seed: alvarez_kevin\n",
      "['1st-degree_2018-06-16_1410.csv']\n",
      "Total records: 115\n",
      "========================\n",
      "========================\n",
      "Current seed: arevalo_esteban\n",
      "['1st-degree_2018-06-04_0852.csv']\n",
      "Total records: 150\n",
      "========================\n",
      "========================\n",
      "Current seed: velasquez_milton\n",
      "['1st-degree_2018-05-26_1433.csv']\n",
      "Total records: 125\n",
      "========================\n",
      "========================\n",
      "Current seed: guncay_andrea\n",
      "['1st-degree_2018-06-07_0817.csv']\n",
      "Total records: 215\n",
      "========================\n",
      "========================\n",
      "Current seed: jaramillo_ronaldo\n",
      "['1st-degree_2018-06-01_0749.csv']\n",
      "Total records: 90\n",
      "========================\n",
      "========================\n",
      "Current seed: pardo_carlos\n",
      "['1st-degree_2018-05-19_0745.csv']\n",
      "Total records: 119\n",
      "========================\n",
      "========================\n",
      "Current seed: arevalo_david\n",
      "['1st-degree_2018-05-23_2354.csv']\n",
      "Total records: 75\n",
      "========================\n",
      "========================\n",
      "Current seed: vicuna_freddy\n",
      "['1st-degree_2018-05-23_0816.csv']\n",
      "Total records: 44\n",
      "========================\n",
      "========================\n",
      "Current seed: cuadrado_ismael\n",
      "['1st-degree_2018-06-13_1035.csv']\n",
      "Total records: 142\n",
      "========================\n",
      "========================\n",
      "Current seed: cabrera_andrea\n",
      "['1st-degree_2018-06-09_0932.csv']\n",
      "Total records: 168\n",
      "========================\n",
      "========================\n",
      "Current seed: sigua_bryan\n",
      "['1st-degree_2018-05-24_1557.csv']\n",
      "Total records: 163\n",
      "========================\n",
      "========================\n",
      "Current seed: perez_katherine\n",
      "['1st-degree_2018-06-01_0944.csv']\n",
      "Total records: 343\n",
      "========================\n",
      "========================\n",
      "Current seed: guaman_edgar\n",
      "['1st-degree_2018-06-09_1042.csv']\n",
      "Total records: 229\n",
      "========================\n",
      "========================\n",
      "Current seed: galarza_ang\n",
      "['1st-degree_2018-06-13_1801.csv']\n",
      "Total records: 190\n",
      "========================\n",
      "========================\n",
      "Current seed: vasquez_karla\n",
      "['1st-degree_2018-06-13_1717.csv']\n",
      "Total records: 125\n",
      "========================\n",
      "========================\n",
      "Current seed: orellana_patricia\n",
      "['1st-degree_2018-05-22_1606.csv']\n",
      "Total records: 237\n",
      "========================\n",
      "========================\n",
      "Current seed: pacheco_dayanna\n",
      "['1st-degree_2018-05-23_2143.csv']\n",
      "Total records: 240\n",
      "========================\n",
      "========================\n",
      "Current seed: guiracocha_santiago\n",
      "['1st-degree_2018-05-23_1841.csv']\n",
      "Total records: 267\n",
      "========================\n",
      "========================\n",
      "Current seed: chiriapo_gabriela\n",
      "['1st-degree_2018-06-05_0116.csv']\n",
      "Total records: 259\n",
      "========================\n",
      "========================\n",
      "Current seed: martinez_josue\n",
      "['1st-degree_2018-06-07_1850.csv']\n",
      "Total records: 152\n",
      "========================\n",
      "========================\n",
      "Current seed: ramon_angel\n",
      "['1st-degree_2018-06-09_2224.csv']\n",
      "Total records: 100\n",
      "========================\n",
      "========================\n",
      "Current seed: nasque_maritza\n",
      "['1st-degree_2018-05-31_1924.csv']\n",
      "Total records: 36\n",
      "========================\n",
      "========================\n"
     ]
    }
   ],
   "source": [
    "df_list = []\n",
    "for seed in seeds:\n",
    "    print('Current seed: %s' % seed)\n",
    "    dir_ = PATH + ('%s/' % seed)\n",
    "    files = os.listdir(dir_)\n",
    "    files = [f for f in files if f.startswith('1st-degree')]\n",
    "    assert(len(files) == 1)\n",
    "    print(files)\n",
    "    df_ = pd.read_csv(dir_ + files[0])\n",
    "    print('Total records: %d' % df_[df_['active'] == 1].shape[0])\n",
    "    df_list.append(df_)\n",
    "    print('========================')\n",
    "    print('========================')\n",
    "#     break\n",
    "    \n",
    "len(df_list)\n",
    "\n",
    "data_1 = pd.concat(df_list)\n",
    "data_1.drop(['index'], inplace=True, axis=1)"
   ]
  },
  {
   "cell_type": "markdown",
   "metadata": {},
   "source": [
    "## 2nd degree"
   ]
  },
  {
   "cell_type": "code",
   "execution_count": 5,
   "metadata": {},
   "outputs": [
    {
     "name": "stdout",
     "output_type": "stream",
     "text": [
      "Current seed: cabrera_kevin\n",
      "['2nd-degree_2018-05-21_160036.csv', '2nd-degree_2018-05-20_151023.csv']\n",
      "Total records: 42250\n",
      "========================\n",
      "========================\n",
      "Current seed: alvarez_kevin\n",
      "['2nd-degree_2018-06-17_065724.csv', '2nd-degree_2018-06-16_215258.csv', '2nd-degree_2018-06-17_111420.csv', '2nd-degree_2018-06-16_141234.csv']\n",
      "Total records: 63261\n",
      "========================\n",
      "========================\n",
      "Current seed: arevalo_esteban\n",
      "['2nd-degree_2018-06-04_124945.csv', '2nd-degree_2018-06-04_104649.csv', '2nd-degree_2018-06-04_085331.csv', '2nd-degree_2018-06-04_152848.csv']\n",
      "Total records: 100654\n",
      "========================\n",
      "========================\n",
      "Current seed: velasquez_milton\n",
      "['2nd-degree_2018-05-27_164138.csv', '2nd-degree_2018-05-26_184833.csv', '2nd-degree_2018-05-27_080206.csv', '2nd-degree_2018-05-27_001630.csv']\n",
      "Total records: 120122\n",
      "========================\n",
      "========================\n",
      "Current seed: guncay_andrea\n",
      "['2nd-degree_2018-06-08_135643.csv', '2nd-degree_2018-06-08_174631.csv', '2nd-degree_2018-06-09_073507.csv', '2nd-degree_2018-06-08_221524.csv']\n",
      "Total records: 184445\n",
      "========================\n",
      "========================\n",
      "Current seed: jaramillo_ronaldo\n",
      "['2nd-degree_2018-06-01_124923.csv', '2nd-degree_2018-06-01_164928.csv']\n",
      "Total records: 40020\n",
      "========================\n",
      "========================\n",
      "Current seed: pardo_carlos\n",
      "['2nd-degree_2018-05-19_151729.csv', '2nd-degree_2018-05-19_094719.csv', '2nd-degree_2018-05-19_121600.csv']\n",
      "Total records: 105809\n",
      "========================\n",
      "========================\n",
      "Current seed: arevalo_david\n",
      "['2nd-degree_2018-05-24_135634.csv', '2nd-degree_2018-05-24_000635.csv']\n",
      "Total records: 70265\n",
      "========================\n",
      "========================\n",
      "Current seed: vicuna_freddy\n",
      "['2nd-degree_2018-05-23_082313.csv']\n",
      "Total records: 44935\n",
      "========================\n",
      "========================\n",
      "Current seed: cuadrado_ismael\n",
      "['2nd-degree_2018-06-13_214002.csv', '2nd-degree_2018-06-13_162705.csv', '2nd-degree_2018-06-13_113830.csv']\n",
      "Total records: 114474\n",
      "========================\n",
      "========================\n",
      "Current seed: cabrera_andrea\n",
      "['2nd-degree_2018-06-09_182148.csv', '2nd-degree_2018-06-09_111948.csv', '2nd-degree_2018-06-09_182139.csv', '2nd-degree_2018-06-09_111959.csv']\n",
      "Total records: 140365\n",
      "========================\n",
      "========================\n",
      "Current seed: sigua_bryan\n",
      "['2nd-degree_2018-05-25_131202.csv', '2nd-degree_2018-05-24_160221.csv', '2nd-degree_2018-05-25_141019.csv', '2nd-degree_2018-05-25_104528.csv']\n",
      "Total records: 74514\n",
      "========================\n",
      "========================\n",
      "Current seed: perez_katherine\n",
      "['2nd-degree_2018-06-09_125549.csv', '2nd-degree_2018-06-11_070642.csv', '2nd-degree_2018-06-15_095840.csv', '2nd-degree_2018-06-12_063021.csv', '2nd-degree_2018-06-10_073735.csv', '2nd-degree_2018-06-13_151414.csv', '2nd-degree_2018-06-13_110845.csv', '2nd-degree_2018-06-13_205405.csv', '2nd-degree_2018-06-14_080339.csv', '2nd-degree_2018-06-12_221223.csv', '2nd-degree_2018-06-14_195526.csv', '2nd-degree_2018-06-10_144507.csv', '2nd-degree_2018-06-15_060240.csv', '2nd-degree_2018-06-12_093153.csv', '2nd-degree_2018-06-13_190151.csv', '2nd-degree_2018-06-08_182047.csv', '2nd-degree_2018-06-15_105754.csv', '2nd-degree_2018-06-10_120819.csv', '2nd-degree_2018-06-15_021444.csv', '2nd-degree_2018-06-10_171857.csv', '2nd-degree_2018-06-14_180144.csv', '2nd-degree_2018-06-13_133058.csv', '2nd-degree_2018-06-11_082545.csv', '2nd-degree_2018-06-09_105904.csv']\n",
      "Total records: 414576\n",
      "========================\n",
      "========================\n",
      "Current seed: guaman_edgar\n",
      "['2nd-degree_2018-06-10_000745.csv', '2nd-degree_2018-06-10_042402.csv', '2nd-degree_2018-06-09_230413.csv', '2nd-degree_2018-06-10_051137.csv', '2nd-degree_2018-06-09_104711.csv', '2nd-degree_2018-06-09_131435.csv', '2nd-degree_2018-06-09_150804.csv', '2nd-degree_2018-06-09_191543.csv', '2nd-degree_2018-06-11_144918.csv']\n",
      "Total records: 272963\n",
      "========================\n",
      "========================\n",
      "Current seed: galarza_ang\n",
      "['2nd-degree_2018-06-14_160445.csv', '2nd-degree_2018-06-13_201038.csv', '2nd-degree_2018-06-13_180550.csv', '2nd-degree_2018-06-14_080750.csv']\n",
      "Total records: 64280\n",
      "========================\n",
      "========================\n",
      "Current seed: vasquez_karla\n",
      "['2nd-degree_2018-06-21_040902.csv', '2nd-degree_2018-06-21_010945.csv', '2nd-degree_2018-06-18_050250.csv']\n",
      "Total records: 54922\n",
      "========================\n",
      "========================\n",
      "Current seed: orellana_patricia\n",
      "['2nd-degree_2018-06-02_144609.csv', '2nd-degree_2018-06-06_152254.csv', '2nd-degree_2018-06-03_084739.csv', '2nd-degree_2018-06-03_125057.csv', '2nd-degree_2018-06-03_101656.csv']\n",
      "Total records: 179767\n",
      "========================\n",
      "========================\n",
      "Current seed: pacheco_dayanna\n",
      "['2nd-degree_2018-05-23_225835.csv', '2nd-degree_2018-06-01_214207.csv', '2nd-degree_2018-05-24_203435.csv', '2nd-degree_2018-06-03_105959.csv', '2nd-degree_2018-06-03_155818.csv']\n",
      "Total records: 140410\n",
      "========================\n",
      "========================\n",
      "Current seed: guiracocha_santiago\n",
      "['2nd-degree_2018-05-24_005656.csv', '2nd-degree_2018-05-24_142903.csv', '2nd-degree_2018-05-24_131949.csv', '2nd-degree_2018-05-23_232326.csv', '2nd-degree_2018-05-24_113916.csv', '2nd-degree_2018-05-24_124229.csv', '2nd-degree_2018-05-23_212807.csv', '2nd-degree_2018-05-24_144453.csv', '2nd-degree_2018-05-24_135040.csv', '2nd-degree_2018-05-23_184757.csv', '2nd-degree_2018-05-24_121011.csv', '2nd-degree_2018-05-24_130326.csv', '2nd-degree_2018-05-24_141722.csv', '2nd-degree_2018-05-24_092426.csv', '2nd-degree_2018-05-24_122535.csv']\n",
      "Total records: 364531\n",
      "========================\n",
      "========================\n",
      "Current seed: chiriapo_gabriela\n",
      "['2nd-degree_2018-06-05_012413.csv', '2nd-degree_2018-06-06_045155.csv', '2nd-degree_2018-06-05_025959.csv', '2nd-degree_2018-06-06_021912.csv', '2nd-degree_2018-06-05_233806.csv', '2nd-degree_2018-06-05_120907.csv']\n",
      "Total records: 196687\n",
      "========================\n",
      "========================\n",
      "Current seed: martinez_josue\n",
      "['2nd-degree_2018-06-07_185237.csv', '2nd-degree_2018-06-12_171536.csv', '2nd-degree_2018-06-08_190720.csv', '2nd-degree_2018-06-08_032910.csv', '2nd-degree_2018-06-10_180513.csv']\n",
      "Total records: 153572\n",
      "========================\n",
      "========================\n",
      "Current seed: ramon_angel\n",
      "['2nd-degree_2018-06-10_064201.csv', '2nd-degree_2018-06-09_222833.csv', '2nd-degree_2018-06-10_160807.csv']\n",
      "Total records: 95340\n",
      "========================\n",
      "========================\n",
      "Current seed: nasque_maritza\n",
      "['2nd-degree_2018-05-31_192935.csv']\n",
      "Total records: 23748\n",
      "========================\n",
      "========================\n"
     ]
    },
    {
     "data": {
      "text/plain": [
       "23"
      ]
     },
     "execution_count": 5,
     "metadata": {},
     "output_type": "execute_result"
    }
   ],
   "source": [
    "df_list = []\n",
    "for seed in seeds:\n",
    "    print('Current seed: %s' % seed)\n",
    "    dir_ = PATH + ('%s/' % seed)\n",
    "    files = os.listdir(dir_)\n",
    "    files = [f for f in files if f.startswith('2nd-degree') and f.find('SKIPPED') == -1]\n",
    "    print(files)\n",
    "    df_subset_list = [pd.read_csv(dir_ + f) for f in files]\n",
    "    df_subset = pd.concat(df_subset_list)\n",
    "    print('Total records: %d' % df_subset.shape[0])\n",
    "    df_list.append(df_subset)\n",
    "    print('========================')\n",
    "    print('========================')\n",
    "#     break\n",
    "    \n",
    "len(df_list)"
   ]
  },
  {
   "cell_type": "code",
   "execution_count": 6,
   "metadata": {},
   "outputs": [
    {
     "data": {
      "text/html": [
       "<div>\n",
       "<table border=\"1\" class=\"dataframe\">\n",
       "  <thead>\n",
       "    <tr style=\"text-align: right;\">\n",
       "      <th></th>\n",
       "      <th>A_id</th>\n",
       "      <th>B_id</th>\n",
       "      <th>A_name</th>\n",
       "      <th>B_name</th>\n",
       "      <th>active</th>\n",
       "    </tr>\n",
       "  </thead>\n",
       "  <tbody>\n",
       "    <tr>\n",
       "      <th>0</th>\n",
       "      <td>100001756083977</td>\n",
       "      <td>100002026905899</td>\n",
       "      <td>Guido Vargas Gonzalez</td>\n",
       "      <td>Paula Calle Luzuriaga</td>\n",
       "      <td>1</td>\n",
       "    </tr>\n",
       "    <tr>\n",
       "      <th>1</th>\n",
       "      <td>100001756083977</td>\n",
       "      <td>100000736371638</td>\n",
       "      <td>Guido Vargas Gonzalez</td>\n",
       "      <td>Aylin Castillo</td>\n",
       "      <td>1</td>\n",
       "    </tr>\n",
       "    <tr>\n",
       "      <th>2</th>\n",
       "      <td>100001756083977</td>\n",
       "      <td>100003196139071</td>\n",
       "      <td>Guido Vargas Gonzalez</td>\n",
       "      <td>Odalys Pinos</td>\n",
       "      <td>1</td>\n",
       "    </tr>\n",
       "    <tr>\n",
       "      <th>3</th>\n",
       "      <td>100001756083977</td>\n",
       "      <td>100002324121722</td>\n",
       "      <td>Guido Vargas Gonzalez</td>\n",
       "      <td>Andres Pesantez Coronel</td>\n",
       "      <td>1</td>\n",
       "    </tr>\n",
       "    <tr>\n",
       "      <th>4</th>\n",
       "      <td>100001756083977</td>\n",
       "      <td>100006823800958</td>\n",
       "      <td>Guido Vargas Gonzalez</td>\n",
       "      <td>Paulina Lozano</td>\n",
       "      <td>1</td>\n",
       "    </tr>\n",
       "  </tbody>\n",
       "</table>\n",
       "</div>"
      ],
      "text/plain": [
       "              A_id             B_id                 A_name  \\\n",
       "0  100001756083977  100002026905899  Guido Vargas Gonzalez   \n",
       "1  100001756083977  100000736371638  Guido Vargas Gonzalez   \n",
       "2  100001756083977  100003196139071  Guido Vargas Gonzalez   \n",
       "3  100001756083977  100002324121722  Guido Vargas Gonzalez   \n",
       "4  100001756083977  100006823800958  Guido Vargas Gonzalez   \n",
       "\n",
       "                    B_name  active  \n",
       "0    Paula Calle Luzuriaga       1  \n",
       "1           Aylin Castillo       1  \n",
       "2             Odalys Pinos       1  \n",
       "3  Andres Pesantez Coronel       1  \n",
       "4           Paulina Lozano       1  "
      ]
     },
     "execution_count": 6,
     "metadata": {},
     "output_type": "execute_result"
    }
   ],
   "source": [
    "data_2 = pd.concat(df_list)\n",
    "data_2.head()"
   ]
  },
  {
   "cell_type": "markdown",
   "metadata": {},
   "source": [
    "## Data consolidation"
   ]
  },
  {
   "cell_type": "code",
   "execution_count": 7,
   "metadata": {},
   "outputs": [
    {
     "data": {
      "text/html": [
       "<div>\n",
       "<table border=\"1\" class=\"dataframe\">\n",
       "  <thead>\n",
       "    <tr style=\"text-align: right;\">\n",
       "      <th></th>\n",
       "      <th>A_id</th>\n",
       "      <th>A_name</th>\n",
       "      <th>B_id</th>\n",
       "      <th>B_name</th>\n",
       "      <th>active</th>\n",
       "      <th>processed</th>\n",
       "    </tr>\n",
       "  </thead>\n",
       "  <tbody>\n",
       "    <tr>\n",
       "      <th>0</th>\n",
       "      <td>100001699374293</td>\n",
       "      <td>MasterNode</td>\n",
       "      <td>100022618663240</td>\n",
       "      <td>Perez Katherine</td>\n",
       "      <td>1</td>\n",
       "      <td>True</td>\n",
       "    </tr>\n",
       "    <tr>\n",
       "      <th>1</th>\n",
       "      <td>100001699374293</td>\n",
       "      <td>MasterNode</td>\n",
       "      <td>100001924890299</td>\n",
       "      <td>Guiracocha Santiago</td>\n",
       "      <td>1</td>\n",
       "      <td>True</td>\n",
       "    </tr>\n",
       "    <tr>\n",
       "      <th>2</th>\n",
       "      <td>100001699374293</td>\n",
       "      <td>MasterNode</td>\n",
       "      <td>100008056815598</td>\n",
       "      <td>Gabriela Chiriapo</td>\n",
       "      <td>1</td>\n",
       "      <td>True</td>\n",
       "    </tr>\n",
       "    <tr>\n",
       "      <th>3</th>\n",
       "      <td>100001699374293</td>\n",
       "      <td>MasterNode</td>\n",
       "      <td>100026083432921</td>\n",
       "      <td>Pacheco Dayanna</td>\n",
       "      <td>1</td>\n",
       "      <td>True</td>\n",
       "    </tr>\n",
       "    <tr>\n",
       "      <th>4</th>\n",
       "      <td>100001699374293</td>\n",
       "      <td>MasterNode</td>\n",
       "      <td>100003246562216</td>\n",
       "      <td>Orellana Patricia</td>\n",
       "      <td>1</td>\n",
       "      <td>True</td>\n",
       "    </tr>\n",
       "  </tbody>\n",
       "</table>\n",
       "</div>"
      ],
      "text/plain": [
       "              A_id      A_name             B_id               B_name  active  \\\n",
       "0  100001699374293  MasterNode  100022618663240      Perez Katherine       1   \n",
       "1  100001699374293  MasterNode  100001924890299  Guiracocha Santiago       1   \n",
       "2  100001699374293  MasterNode  100008056815598    Gabriela Chiriapo       1   \n",
       "3  100001699374293  MasterNode  100026083432921      Pacheco Dayanna       1   \n",
       "4  100001699374293  MasterNode  100003246562216    Orellana Patricia       1   \n",
       "\n",
       "  processed  \n",
       "0      True  \n",
       "1      True  \n",
       "2      True  \n",
       "3      True  \n",
       "4      True  "
      ]
     },
     "execution_count": 7,
     "metadata": {},
     "output_type": "execute_result"
    }
   ],
   "source": [
    "df_master = pd.read_csv(PATH + '/1st-degree-seeds.csv')\n",
    "df_master.head()"
   ]
  },
  {
   "cell_type": "code",
   "execution_count": 11,
   "metadata": {},
   "outputs": [],
   "source": [
    "df_master.drop(['processed', 'active'], inplace=True, axis=1)"
   ]
  },
  {
   "cell_type": "code",
   "execution_count": null,
   "metadata": {},
   "outputs": [],
   "source": [
    "# data_1 = pd.concat([df_master, data_1])"
   ]
  },
  {
   "cell_type": "code",
   "execution_count": 8,
   "metadata": {},
   "outputs": [
    {
     "data": {
      "text/plain": [
       "(4322, 6)"
      ]
     },
     "execution_count": 8,
     "metadata": {},
     "output_type": "execute_result"
    }
   ],
   "source": [
    "data_1.shape"
   ]
  },
  {
   "cell_type": "code",
   "execution_count": 9,
   "metadata": {},
   "outputs": [],
   "source": [
    "data_1 = data_1[data_1.active == 1].copy()"
   ]
  },
  {
   "cell_type": "code",
   "execution_count": 10,
   "metadata": {
    "scrolled": true
   },
   "outputs": [
    {
     "data": {
      "text/plain": [
       "(3667, 6)"
      ]
     },
     "execution_count": 10,
     "metadata": {},
     "output_type": "execute_result"
    }
   ],
   "source": [
    "data_1.shape"
   ]
  },
  {
   "cell_type": "code",
   "execution_count": 12,
   "metadata": {},
   "outputs": [],
   "source": [
    "data_1.drop(['processed', 'active'], inplace=True, axis=1)"
   ]
  },
  {
   "cell_type": "code",
   "execution_count": 13,
   "metadata": {},
   "outputs": [
    {
     "data": {
      "text/html": [
       "<div>\n",
       "<table border=\"1\" class=\"dataframe\">\n",
       "  <thead>\n",
       "    <tr style=\"text-align: right;\">\n",
       "      <th></th>\n",
       "      <th>A_id</th>\n",
       "      <th>A_name</th>\n",
       "      <th>B_id</th>\n",
       "      <th>B_name</th>\n",
       "    </tr>\n",
       "  </thead>\n",
       "  <tbody>\n",
       "    <tr>\n",
       "      <th>0</th>\n",
       "      <td>100008162021602</td>\n",
       "      <td>Me</td>\n",
       "      <td>100002026905899</td>\n",
       "      <td>Paula Calle Luzuriaga</td>\n",
       "    </tr>\n",
       "    <tr>\n",
       "      <th>1</th>\n",
       "      <td>100008162021602</td>\n",
       "      <td>Me</td>\n",
       "      <td>100008484491880</td>\n",
       "      <td>Xavier Ambuludí Torres</td>\n",
       "    </tr>\n",
       "    <tr>\n",
       "      <th>2</th>\n",
       "      <td>100008162021602</td>\n",
       "      <td>Me</td>\n",
       "      <td>100003131840031</td>\n",
       "      <td>Pedro Pérez Aray</td>\n",
       "    </tr>\n",
       "    <tr>\n",
       "      <th>3</th>\n",
       "      <td>100008162021602</td>\n",
       "      <td>Me</td>\n",
       "      <td>100002059929677</td>\n",
       "      <td>Santiago Ortiz Placencia</td>\n",
       "    </tr>\n",
       "    <tr>\n",
       "      <th>4</th>\n",
       "      <td>100008162021602</td>\n",
       "      <td>Me</td>\n",
       "      <td>100002825721395</td>\n",
       "      <td>Fernando Yupa</td>\n",
       "    </tr>\n",
       "  </tbody>\n",
       "</table>\n",
       "</div>"
      ],
      "text/plain": [
       "              A_id A_name             B_id                    B_name\n",
       "0  100008162021602     Me  100002026905899     Paula Calle Luzuriaga\n",
       "1  100008162021602     Me  100008484491880    Xavier Ambuludí Torres\n",
       "2  100008162021602     Me  100003131840031          Pedro Pérez Aray\n",
       "3  100008162021602     Me  100002059929677  Santiago Ortiz Placencia\n",
       "4  100008162021602     Me  100002825721395             Fernando Yupa"
      ]
     },
     "execution_count": 13,
     "metadata": {},
     "output_type": "execute_result"
    }
   ],
   "source": [
    "data_1.head()"
   ]
  },
  {
   "cell_type": "code",
   "execution_count": 14,
   "metadata": {},
   "outputs": [],
   "source": [
    "data_1.drop_duplicates(['A_id', 'B_id'], inplace=True)"
   ]
  },
  {
   "cell_type": "code",
   "execution_count": 15,
   "metadata": {},
   "outputs": [
    {
     "name": "stdout",
     "output_type": "stream",
     "text": [
      "Total records on 2nd degree: 3667\n"
     ]
    }
   ],
   "source": [
    "print('Total records on 2nd degree: %d' % (data_1.shape[0]))"
   ]
  },
  {
   "cell_type": "code",
   "execution_count": 16,
   "metadata": {},
   "outputs": [
    {
     "data": {
      "text/plain": [
       "(3061910, 5)"
      ]
     },
     "execution_count": 16,
     "metadata": {},
     "output_type": "execute_result"
    }
   ],
   "source": [
    "data_2.shape"
   ]
  },
  {
   "cell_type": "code",
   "execution_count": 17,
   "metadata": {},
   "outputs": [],
   "source": [
    "data_2 = data_2[data_2.active == 1].copy() "
   ]
  },
  {
   "cell_type": "code",
   "execution_count": 18,
   "metadata": {},
   "outputs": [
    {
     "data": {
      "text/plain": [
       "(3061910, 5)"
      ]
     },
     "execution_count": 18,
     "metadata": {},
     "output_type": "execute_result"
    }
   ],
   "source": [
    "data_2.shape"
   ]
  },
  {
   "cell_type": "code",
   "execution_count": 19,
   "metadata": {},
   "outputs": [],
   "source": [
    "data_2.drop_duplicates(['A_id', 'B_id'], inplace=True)"
   ]
  },
  {
   "cell_type": "code",
   "execution_count": 20,
   "metadata": {},
   "outputs": [
    {
     "data": {
      "text/html": [
       "<div>\n",
       "<table border=\"1\" class=\"dataframe\">\n",
       "  <thead>\n",
       "    <tr style=\"text-align: right;\">\n",
       "      <th></th>\n",
       "      <th>A_id</th>\n",
       "      <th>B_id</th>\n",
       "      <th>A_name</th>\n",
       "      <th>B_name</th>\n",
       "      <th>active</th>\n",
       "    </tr>\n",
       "  </thead>\n",
       "  <tbody>\n",
       "    <tr>\n",
       "      <th>0</th>\n",
       "      <td>100001756083977</td>\n",
       "      <td>100002026905899</td>\n",
       "      <td>Guido Vargas Gonzalez</td>\n",
       "      <td>Paula Calle Luzuriaga</td>\n",
       "      <td>1</td>\n",
       "    </tr>\n",
       "    <tr>\n",
       "      <th>1</th>\n",
       "      <td>100001756083977</td>\n",
       "      <td>100000736371638</td>\n",
       "      <td>Guido Vargas Gonzalez</td>\n",
       "      <td>Aylin Castillo</td>\n",
       "      <td>1</td>\n",
       "    </tr>\n",
       "    <tr>\n",
       "      <th>2</th>\n",
       "      <td>100001756083977</td>\n",
       "      <td>100003196139071</td>\n",
       "      <td>Guido Vargas Gonzalez</td>\n",
       "      <td>Odalys Pinos</td>\n",
       "      <td>1</td>\n",
       "    </tr>\n",
       "    <tr>\n",
       "      <th>3</th>\n",
       "      <td>100001756083977</td>\n",
       "      <td>100002324121722</td>\n",
       "      <td>Guido Vargas Gonzalez</td>\n",
       "      <td>Andres Pesantez Coronel</td>\n",
       "      <td>1</td>\n",
       "    </tr>\n",
       "    <tr>\n",
       "      <th>4</th>\n",
       "      <td>100001756083977</td>\n",
       "      <td>100006823800958</td>\n",
       "      <td>Guido Vargas Gonzalez</td>\n",
       "      <td>Paulina Lozano</td>\n",
       "      <td>1</td>\n",
       "    </tr>\n",
       "  </tbody>\n",
       "</table>\n",
       "</div>"
      ],
      "text/plain": [
       "              A_id             B_id                 A_name  \\\n",
       "0  100001756083977  100002026905899  Guido Vargas Gonzalez   \n",
       "1  100001756083977  100000736371638  Guido Vargas Gonzalez   \n",
       "2  100001756083977  100003196139071  Guido Vargas Gonzalez   \n",
       "3  100001756083977  100002324121722  Guido Vargas Gonzalez   \n",
       "4  100001756083977  100006823800958  Guido Vargas Gonzalez   \n",
       "\n",
       "                    B_name  active  \n",
       "0    Paula Calle Luzuriaga       1  \n",
       "1           Aylin Castillo       1  \n",
       "2             Odalys Pinos       1  \n",
       "3  Andres Pesantez Coronel       1  \n",
       "4           Paulina Lozano       1  "
      ]
     },
     "execution_count": 20,
     "metadata": {},
     "output_type": "execute_result"
    }
   ],
   "source": [
    "data_2.head()"
   ]
  },
  {
   "cell_type": "code",
   "execution_count": 21,
   "metadata": {},
   "outputs": [
    {
     "data": {
      "text/plain": [
       "(2806783, 5)"
      ]
     },
     "execution_count": 21,
     "metadata": {},
     "output_type": "execute_result"
    }
   ],
   "source": [
    "data_2.shape"
   ]
  },
  {
   "cell_type": "code",
   "execution_count": 22,
   "metadata": {},
   "outputs": [],
   "source": [
    "data_2.drop(['active'], inplace=True, axis=1)"
   ]
  },
  {
   "cell_type": "code",
   "execution_count": 23,
   "metadata": {},
   "outputs": [
    {
     "data": {
      "text/html": [
       "<div>\n",
       "<table border=\"1\" class=\"dataframe\">\n",
       "  <thead>\n",
       "    <tr style=\"text-align: right;\">\n",
       "      <th></th>\n",
       "      <th>A_id</th>\n",
       "      <th>B_id</th>\n",
       "      <th>A_name</th>\n",
       "      <th>B_name</th>\n",
       "    </tr>\n",
       "  </thead>\n",
       "  <tbody>\n",
       "    <tr>\n",
       "      <th>0</th>\n",
       "      <td>100001756083977</td>\n",
       "      <td>100002026905899</td>\n",
       "      <td>Guido Vargas Gonzalez</td>\n",
       "      <td>Paula Calle Luzuriaga</td>\n",
       "    </tr>\n",
       "    <tr>\n",
       "      <th>1</th>\n",
       "      <td>100001756083977</td>\n",
       "      <td>100000736371638</td>\n",
       "      <td>Guido Vargas Gonzalez</td>\n",
       "      <td>Aylin Castillo</td>\n",
       "    </tr>\n",
       "    <tr>\n",
       "      <th>2</th>\n",
       "      <td>100001756083977</td>\n",
       "      <td>100003196139071</td>\n",
       "      <td>Guido Vargas Gonzalez</td>\n",
       "      <td>Odalys Pinos</td>\n",
       "    </tr>\n",
       "    <tr>\n",
       "      <th>3</th>\n",
       "      <td>100001756083977</td>\n",
       "      <td>100002324121722</td>\n",
       "      <td>Guido Vargas Gonzalez</td>\n",
       "      <td>Andres Pesantez Coronel</td>\n",
       "    </tr>\n",
       "    <tr>\n",
       "      <th>4</th>\n",
       "      <td>100001756083977</td>\n",
       "      <td>100006823800958</td>\n",
       "      <td>Guido Vargas Gonzalez</td>\n",
       "      <td>Paulina Lozano</td>\n",
       "    </tr>\n",
       "  </tbody>\n",
       "</table>\n",
       "</div>"
      ],
      "text/plain": [
       "              A_id             B_id                 A_name  \\\n",
       "0  100001756083977  100002026905899  Guido Vargas Gonzalez   \n",
       "1  100001756083977  100000736371638  Guido Vargas Gonzalez   \n",
       "2  100001756083977  100003196139071  Guido Vargas Gonzalez   \n",
       "3  100001756083977  100002324121722  Guido Vargas Gonzalez   \n",
       "4  100001756083977  100006823800958  Guido Vargas Gonzalez   \n",
       "\n",
       "                    B_name  \n",
       "0    Paula Calle Luzuriaga  \n",
       "1           Aylin Castillo  \n",
       "2             Odalys Pinos  \n",
       "3  Andres Pesantez Coronel  \n",
       "4           Paulina Lozano  "
      ]
     },
     "execution_count": 23,
     "metadata": {},
     "output_type": "execute_result"
    }
   ],
   "source": [
    "data_2.head()"
   ]
  },
  {
   "cell_type": "code",
   "execution_count": 24,
   "metadata": {},
   "outputs": [
    {
     "name": "stdout",
     "output_type": "stream",
     "text": [
      "Total records on 3rd degree: 2806783\n"
     ]
    }
   ],
   "source": [
    "print('Total records on 3rd degree: %d' % data_2.shape[0])"
   ]
  },
  {
   "cell_type": "markdown",
   "metadata": {},
   "source": [
    "## Index generation"
   ]
  },
  {
   "cell_type": "code",
   "execution_count": 25,
   "metadata": {},
   "outputs": [
    {
     "name": "stdout",
     "output_type": "stream",
     "text": [
      "(968832, 1)\n"
     ]
    },
    {
     "data": {
      "text/html": [
       "<div>\n",
       "<table border=\"1\" class=\"dataframe\">\n",
       "  <thead>\n",
       "    <tr style=\"text-align: right;\">\n",
       "      <th></th>\n",
       "      <th>id</th>\n",
       "    </tr>\n",
       "    <tr>\n",
       "      <th>fid</th>\n",
       "      <th></th>\n",
       "    </tr>\n",
       "  </thead>\n",
       "  <tbody>\n",
       "    <tr>\n",
       "      <th>100001699374293</th>\n",
       "      <td>0</td>\n",
       "    </tr>\n",
       "    <tr>\n",
       "      <th>100022618663240</th>\n",
       "      <td>1</td>\n",
       "    </tr>\n",
       "    <tr>\n",
       "      <th>100001924890299</th>\n",
       "      <td>2</td>\n",
       "    </tr>\n",
       "    <tr>\n",
       "      <th>100008056815598</th>\n",
       "      <td>3</td>\n",
       "    </tr>\n",
       "    <tr>\n",
       "      <th>100026083432921</th>\n",
       "      <td>4</td>\n",
       "    </tr>\n",
       "  </tbody>\n",
       "</table>\n",
       "</div>"
      ],
      "text/plain": [
       "                 id\n",
       "fid                \n",
       "100001699374293   0\n",
       "100022618663240   1\n",
       "100001924890299   2\n",
       "100008056815598   3\n",
       "100026083432921   4"
      ]
     },
     "execution_count": 25,
     "metadata": {},
     "output_type": "execute_result"
    }
   ],
   "source": [
    "df_index = pd.DataFrame(pd.concat([df_master['A_id'], df_master['B_id'], data_1['A_id'], data_1['B_id'], data_2['A_id'], data_2['B_id']]), columns=['fid'])\n",
    "df_index.drop_duplicates(['fid'], inplace=True)\n",
    "print(df_index.shape)\n",
    "df_index.reset_index(inplace=True, drop=True)\n",
    "df_index['id'] = df_index.index\n",
    "df_index.set_index('fid', inplace=True)\n",
    "df_index.head()"
   ]
  },
  {
   "cell_type": "code",
   "execution_count": 26,
   "metadata": {},
   "outputs": [
    {
     "data": {
      "text/html": [
       "<div>\n",
       "<table border=\"1\" class=\"dataframe\">\n",
       "  <thead>\n",
       "    <tr style=\"text-align: right;\">\n",
       "      <th></th>\n",
       "      <th>A_id</th>\n",
       "      <th>A_name</th>\n",
       "      <th>B_id</th>\n",
       "      <th>B_name</th>\n",
       "    </tr>\n",
       "  </thead>\n",
       "  <tbody>\n",
       "    <tr>\n",
       "      <th>0</th>\n",
       "      <td>100008162021602</td>\n",
       "      <td>Me</td>\n",
       "      <td>100002026905899</td>\n",
       "      <td>Paula Calle Luzuriaga</td>\n",
       "    </tr>\n",
       "    <tr>\n",
       "      <th>1</th>\n",
       "      <td>100008162021602</td>\n",
       "      <td>Me</td>\n",
       "      <td>100008484491880</td>\n",
       "      <td>Xavier Ambuludí Torres</td>\n",
       "    </tr>\n",
       "    <tr>\n",
       "      <th>2</th>\n",
       "      <td>100008162021602</td>\n",
       "      <td>Me</td>\n",
       "      <td>100003131840031</td>\n",
       "      <td>Pedro Pérez Aray</td>\n",
       "    </tr>\n",
       "    <tr>\n",
       "      <th>3</th>\n",
       "      <td>100008162021602</td>\n",
       "      <td>Me</td>\n",
       "      <td>100002059929677</td>\n",
       "      <td>Santiago Ortiz Placencia</td>\n",
       "    </tr>\n",
       "    <tr>\n",
       "      <th>4</th>\n",
       "      <td>100008162021602</td>\n",
       "      <td>Me</td>\n",
       "      <td>100002825721395</td>\n",
       "      <td>Fernando Yupa</td>\n",
       "    </tr>\n",
       "  </tbody>\n",
       "</table>\n",
       "</div>"
      ],
      "text/plain": [
       "              A_id A_name             B_id                    B_name\n",
       "0  100008162021602     Me  100002026905899     Paula Calle Luzuriaga\n",
       "1  100008162021602     Me  100008484491880    Xavier Ambuludí Torres\n",
       "2  100008162021602     Me  100003131840031          Pedro Pérez Aray\n",
       "3  100008162021602     Me  100002059929677  Santiago Ortiz Placencia\n",
       "4  100008162021602     Me  100002825721395             Fernando Yupa"
      ]
     },
     "execution_count": 26,
     "metadata": {},
     "output_type": "execute_result"
    }
   ],
   "source": [
    "data_1.head()"
   ]
  },
  {
   "cell_type": "code",
   "execution_count": 27,
   "metadata": {},
   "outputs": [],
   "source": [
    "df_master['Source'] = df_master['A_id'].map(df_index['id'])\n",
    "df_master['Target'] = df_master['B_id'].map(df_index['id'])"
   ]
  },
  {
   "cell_type": "code",
   "execution_count": 28,
   "metadata": {},
   "outputs": [],
   "source": [
    "data_1['Source'] = data_1['A_id'].map(df_index['id'])\n",
    "data_1['Target'] = data_1['B_id'].map(df_index['id'])"
   ]
  },
  {
   "cell_type": "code",
   "execution_count": 29,
   "metadata": {},
   "outputs": [],
   "source": [
    "data_2['Source'] = data_2['A_id'].map(df_index['id'])\n",
    "data_2['Target'] = data_2['B_id'].map(df_index['id'])"
   ]
  },
  {
   "cell_type": "markdown",
   "metadata": {},
   "source": [
    "## Graph Generation"
   ]
  },
  {
   "cell_type": "code",
   "execution_count": 30,
   "metadata": {},
   "outputs": [],
   "source": [
    "PATH = 'Crowd/graph/'"
   ]
  },
  {
   "cell_type": "code",
   "execution_count": 31,
   "metadata": {},
   "outputs": [],
   "source": [
    "if not os.path.isdir(PATH):\n",
    "    os.mkdir(PATH)"
   ]
  },
  {
   "cell_type": "code",
   "execution_count": 32,
   "metadata": {},
   "outputs": [
    {
     "data": {
      "text/html": [
       "<div>\n",
       "<table border=\"1\" class=\"dataframe\">\n",
       "  <thead>\n",
       "    <tr style=\"text-align: right;\">\n",
       "      <th></th>\n",
       "      <th>A_id</th>\n",
       "      <th>A_name</th>\n",
       "      <th>B_id</th>\n",
       "      <th>B_name</th>\n",
       "      <th>Source</th>\n",
       "      <th>Target</th>\n",
       "    </tr>\n",
       "  </thead>\n",
       "  <tbody>\n",
       "    <tr>\n",
       "      <th>0</th>\n",
       "      <td>100008162021602</td>\n",
       "      <td>Me</td>\n",
       "      <td>100002026905899</td>\n",
       "      <td>Paula Calle Luzuriaga</td>\n",
       "      <td>20</td>\n",
       "      <td>25</td>\n",
       "    </tr>\n",
       "    <tr>\n",
       "      <th>1</th>\n",
       "      <td>100008162021602</td>\n",
       "      <td>Me</td>\n",
       "      <td>100008484491880</td>\n",
       "      <td>Xavier Ambuludí Torres</td>\n",
       "      <td>20</td>\n",
       "      <td>26</td>\n",
       "    </tr>\n",
       "    <tr>\n",
       "      <th>2</th>\n",
       "      <td>100008162021602</td>\n",
       "      <td>Me</td>\n",
       "      <td>100003131840031</td>\n",
       "      <td>Pedro Pérez Aray</td>\n",
       "      <td>20</td>\n",
       "      <td>27</td>\n",
       "    </tr>\n",
       "    <tr>\n",
       "      <th>3</th>\n",
       "      <td>100008162021602</td>\n",
       "      <td>Me</td>\n",
       "      <td>100002059929677</td>\n",
       "      <td>Santiago Ortiz Placencia</td>\n",
       "      <td>20</td>\n",
       "      <td>28</td>\n",
       "    </tr>\n",
       "    <tr>\n",
       "      <th>4</th>\n",
       "      <td>100008162021602</td>\n",
       "      <td>Me</td>\n",
       "      <td>100002825721395</td>\n",
       "      <td>Fernando Yupa</td>\n",
       "      <td>20</td>\n",
       "      <td>29</td>\n",
       "    </tr>\n",
       "  </tbody>\n",
       "</table>\n",
       "</div>"
      ],
      "text/plain": [
       "              A_id A_name             B_id                    B_name  Source  \\\n",
       "0  100008162021602     Me  100002026905899     Paula Calle Luzuriaga      20   \n",
       "1  100008162021602     Me  100008484491880    Xavier Ambuludí Torres      20   \n",
       "2  100008162021602     Me  100003131840031          Pedro Pérez Aray      20   \n",
       "3  100008162021602     Me  100002059929677  Santiago Ortiz Placencia      20   \n",
       "4  100008162021602     Me  100002825721395             Fernando Yupa      20   \n",
       "\n",
       "   Target  \n",
       "0      25  \n",
       "1      26  \n",
       "2      27  \n",
       "3      28  \n",
       "4      29  "
      ]
     },
     "execution_count": 32,
     "metadata": {},
     "output_type": "execute_result"
    }
   ],
   "source": [
    "data_1.head()"
   ]
  },
  {
   "cell_type": "code",
   "execution_count": null,
   "metadata": {},
   "outputs": [],
   "source": [
    "# MASTER_NODE = 100001699374293"
   ]
  },
  {
   "cell_type": "code",
   "execution_count": null,
   "metadata": {},
   "outputs": [],
   "source": [
    "# data_0 = data_1[data_1['A_id'] == MASTER_NODE].copy()"
   ]
  },
  {
   "cell_type": "code",
   "execution_count": 35,
   "metadata": {},
   "outputs": [
    {
     "data": {
      "text/html": [
       "<div>\n",
       "<table border=\"1\" class=\"dataframe\">\n",
       "  <thead>\n",
       "    <tr style=\"text-align: right;\">\n",
       "      <th></th>\n",
       "      <th>A_id</th>\n",
       "      <th>A_name</th>\n",
       "      <th>B_id</th>\n",
       "      <th>B_name</th>\n",
       "      <th>Source</th>\n",
       "      <th>Target</th>\n",
       "    </tr>\n",
       "  </thead>\n",
       "  <tbody>\n",
       "    <tr>\n",
       "      <th>0</th>\n",
       "      <td>100001699374293</td>\n",
       "      <td>MasterNode</td>\n",
       "      <td>100022618663240</td>\n",
       "      <td>Perez Katherine</td>\n",
       "      <td>0</td>\n",
       "      <td>1</td>\n",
       "    </tr>\n",
       "    <tr>\n",
       "      <th>1</th>\n",
       "      <td>100001699374293</td>\n",
       "      <td>MasterNode</td>\n",
       "      <td>100001924890299</td>\n",
       "      <td>Guiracocha Santiago</td>\n",
       "      <td>0</td>\n",
       "      <td>2</td>\n",
       "    </tr>\n",
       "    <tr>\n",
       "      <th>2</th>\n",
       "      <td>100001699374293</td>\n",
       "      <td>MasterNode</td>\n",
       "      <td>100008056815598</td>\n",
       "      <td>Gabriela Chiriapo</td>\n",
       "      <td>0</td>\n",
       "      <td>3</td>\n",
       "    </tr>\n",
       "    <tr>\n",
       "      <th>3</th>\n",
       "      <td>100001699374293</td>\n",
       "      <td>MasterNode</td>\n",
       "      <td>100026083432921</td>\n",
       "      <td>Pacheco Dayanna</td>\n",
       "      <td>0</td>\n",
       "      <td>4</td>\n",
       "    </tr>\n",
       "    <tr>\n",
       "      <th>4</th>\n",
       "      <td>100001699374293</td>\n",
       "      <td>MasterNode</td>\n",
       "      <td>100003246562216</td>\n",
       "      <td>Orellana Patricia</td>\n",
       "      <td>0</td>\n",
       "      <td>5</td>\n",
       "    </tr>\n",
       "  </tbody>\n",
       "</table>\n",
       "</div>"
      ],
      "text/plain": [
       "              A_id      A_name             B_id               B_name  Source  \\\n",
       "0  100001699374293  MasterNode  100022618663240      Perez Katherine       0   \n",
       "1  100001699374293  MasterNode  100001924890299  Guiracocha Santiago       0   \n",
       "2  100001699374293  MasterNode  100008056815598    Gabriela Chiriapo       0   \n",
       "3  100001699374293  MasterNode  100026083432921      Pacheco Dayanna       0   \n",
       "4  100001699374293  MasterNode  100003246562216    Orellana Patricia       0   \n",
       "\n",
       "   Target  \n",
       "0       1  \n",
       "1       2  \n",
       "2       3  \n",
       "3       4  \n",
       "4       5  "
      ]
     },
     "execution_count": 35,
     "metadata": {},
     "output_type": "execute_result"
    }
   ],
   "source": [
    "# data_0.shape\n",
    "df_master.head()"
   ]
  },
  {
   "cell_type": "code",
   "execution_count": 36,
   "metadata": {},
   "outputs": [],
   "source": [
    "# data_0.to_csv(PATH + '1st-degree.csv', index=False)\n",
    "df_master.to_csv(PATH + '1st-degree.csv', index=False)"
   ]
  },
  {
   "cell_type": "code",
   "execution_count": null,
   "metadata": {},
   "outputs": [],
   "source": [
    "# data_1 = data_1[data_1['A_id'] != MASTER_NODE].copy()"
   ]
  },
  {
   "cell_type": "code",
   "execution_count": 37,
   "metadata": {},
   "outputs": [],
   "source": [
    "data_1.to_csv(PATH + '2nd-degree.csv', index=False)"
   ]
  },
  {
   "cell_type": "code",
   "execution_count": 38,
   "metadata": {},
   "outputs": [],
   "source": [
    "data_2.to_csv(PATH + '3rd-degree.csv', index=False)"
   ]
  },
  {
   "cell_type": "code",
   "execution_count": 39,
   "metadata": {},
   "outputs": [
    {
     "data": {
      "text/plain": [
       "(2810473, 6)"
      ]
     },
     "execution_count": 39,
     "metadata": {},
     "output_type": "execute_result"
    }
   ],
   "source": [
    "df = pd.concat([df_master, data_1, data_2])\n",
    "df.shape"
   ]
  },
  {
   "cell_type": "code",
   "execution_count": 40,
   "metadata": {},
   "outputs": [],
   "source": [
    "df.drop_duplicates(['A_id', 'B_id'], inplace=True)"
   ]
  },
  {
   "cell_type": "code",
   "execution_count": 41,
   "metadata": {},
   "outputs": [
    {
     "data": {
      "text/plain": [
       "(2807785, 6)"
      ]
     },
     "execution_count": 41,
     "metadata": {},
     "output_type": "execute_result"
    }
   ],
   "source": [
    "df.shape"
   ]
  },
  {
   "cell_type": "code",
   "execution_count": 45,
   "metadata": {},
   "outputs": [
    {
     "name": "stdout",
     "output_type": "stream",
     "text": [
      "Duplicated edges in undirected graph: %d 55456\n"
     ]
    }
   ],
   "source": [
    "mask = df['Source'] < df['Target']\n",
    "df['first'] = df['Source'].where(mask, df['Target'])\n",
    "df['second'] = df['Target'].where(mask, df['Source'])\n",
    "df['d'] = df.duplicated(['first', 'second'])\n",
    "print('Duplicated edges in undirected graph: %d' % (df[df['d'] == True].shape[0]))\n",
    "df.drop_duplicates(['first', 'second'], inplace=True)"
   ]
  },
  {
   "cell_type": "code",
   "execution_count": 46,
   "metadata": {},
   "outputs": [
    {
     "data": {
      "text/plain": [
       "(2752329, 9)"
      ]
     },
     "execution_count": 46,
     "metadata": {},
     "output_type": "execute_result"
    }
   ],
   "source": [
    "df.shape"
   ]
  },
  {
   "cell_type": "code",
   "execution_count": 48,
   "metadata": {},
   "outputs": [],
   "source": [
    "df.drop(['first', 'second', 'd'], inplace=True, axis=1)"
   ]
  },
  {
   "cell_type": "code",
   "execution_count": 49,
   "metadata": {},
   "outputs": [
    {
     "data": {
      "text/html": [
       "<div>\n",
       "<table border=\"1\" class=\"dataframe\">\n",
       "  <thead>\n",
       "    <tr style=\"text-align: right;\">\n",
       "      <th></th>\n",
       "      <th>A_id</th>\n",
       "      <th>A_name</th>\n",
       "      <th>B_id</th>\n",
       "      <th>B_name</th>\n",
       "      <th>Source</th>\n",
       "      <th>Target</th>\n",
       "    </tr>\n",
       "  </thead>\n",
       "  <tbody>\n",
       "    <tr>\n",
       "      <th>0</th>\n",
       "      <td>100001699374293</td>\n",
       "      <td>MasterNode</td>\n",
       "      <td>100022618663240</td>\n",
       "      <td>Perez Katherine</td>\n",
       "      <td>0</td>\n",
       "      <td>1</td>\n",
       "    </tr>\n",
       "    <tr>\n",
       "      <th>1</th>\n",
       "      <td>100001699374293</td>\n",
       "      <td>MasterNode</td>\n",
       "      <td>100001924890299</td>\n",
       "      <td>Guiracocha Santiago</td>\n",
       "      <td>0</td>\n",
       "      <td>2</td>\n",
       "    </tr>\n",
       "    <tr>\n",
       "      <th>2</th>\n",
       "      <td>100001699374293</td>\n",
       "      <td>MasterNode</td>\n",
       "      <td>100008056815598</td>\n",
       "      <td>Gabriela Chiriapo</td>\n",
       "      <td>0</td>\n",
       "      <td>3</td>\n",
       "    </tr>\n",
       "    <tr>\n",
       "      <th>3</th>\n",
       "      <td>100001699374293</td>\n",
       "      <td>MasterNode</td>\n",
       "      <td>100026083432921</td>\n",
       "      <td>Pacheco Dayanna</td>\n",
       "      <td>0</td>\n",
       "      <td>4</td>\n",
       "    </tr>\n",
       "    <tr>\n",
       "      <th>4</th>\n",
       "      <td>100001699374293</td>\n",
       "      <td>MasterNode</td>\n",
       "      <td>100003246562216</td>\n",
       "      <td>Orellana Patricia</td>\n",
       "      <td>0</td>\n",
       "      <td>5</td>\n",
       "    </tr>\n",
       "  </tbody>\n",
       "</table>\n",
       "</div>"
      ],
      "text/plain": [
       "              A_id      A_name             B_id               B_name  Source  \\\n",
       "0  100001699374293  MasterNode  100022618663240      Perez Katherine       0   \n",
       "1  100001699374293  MasterNode  100001924890299  Guiracocha Santiago       0   \n",
       "2  100001699374293  MasterNode  100008056815598    Gabriela Chiriapo       0   \n",
       "3  100001699374293  MasterNode  100026083432921      Pacheco Dayanna       0   \n",
       "4  100001699374293  MasterNode  100003246562216    Orellana Patricia       0   \n",
       "\n",
       "   Target  \n",
       "0       1  \n",
       "1       2  \n",
       "2       3  \n",
       "3       4  \n",
       "4       5  "
      ]
     },
     "execution_count": 49,
     "metadata": {},
     "output_type": "execute_result"
    }
   ],
   "source": [
    "df.head()"
   ]
  },
  {
   "cell_type": "code",
   "execution_count": 50,
   "metadata": {},
   "outputs": [],
   "source": [
    "df.to_csv(PATH + 'social_graph-%s.csv' % datetime.datetime.now().strftime(\"%Y-%m-%d\"), index=False)"
   ]
  },
  {
   "cell_type": "code",
   "execution_count": 51,
   "metadata": {},
   "outputs": [
    {
     "data": {
      "text/plain": [
       "(2752329, 6)"
      ]
     },
     "execution_count": 51,
     "metadata": {},
     "output_type": "execute_result"
    }
   ],
   "source": [
    "df.shape"
   ]
  },
  {
   "cell_type": "markdown",
   "metadata": {},
   "source": [
    "## Edges/Nodes file generation"
   ]
  },
  {
   "cell_type": "code",
   "execution_count": 52,
   "metadata": {},
   "outputs": [
    {
     "data": {
      "text/plain": [
       "(5504658, 1)"
      ]
     },
     "execution_count": 52,
     "metadata": {},
     "output_type": "execute_result"
    }
   ],
   "source": [
    "df_nodes = pd.DataFrame(pd.concat([df['Source'], df['Target']]), columns=['id'])\n",
    "df_nodes.shape"
   ]
  },
  {
   "cell_type": "code",
   "execution_count": 53,
   "metadata": {},
   "outputs": [],
   "source": [
    "df_nodes.drop_duplicates('id', inplace=True)"
   ]
  },
  {
   "cell_type": "code",
   "execution_count": 54,
   "metadata": {},
   "outputs": [
    {
     "data": {
      "text/plain": [
       "(968832, 1)"
      ]
     },
     "execution_count": 54,
     "metadata": {},
     "output_type": "execute_result"
    }
   ],
   "source": [
    "df_nodes.shape"
   ]
  },
  {
   "cell_type": "code",
   "execution_count": 55,
   "metadata": {},
   "outputs": [],
   "source": [
    "df_nodes.to_csv(PATH + 'nodes-%s.csv' % datetime.datetime.now().strftime(\"%Y-%m-%d\"), index=False)"
   ]
  },
  {
   "cell_type": "code",
   "execution_count": 56,
   "metadata": {},
   "outputs": [],
   "source": [
    "edges = df[['Source', 'Target']].copy()\n",
    "edges.to_csv(PATH + 'edges-%s.csv' % datetime.datetime.now().strftime(\"%Y-%m-%d\"), index=False)"
   ]
  },
  {
   "cell_type": "code",
   "execution_count": 57,
   "metadata": {
    "scrolled": true
   },
   "outputs": [
    {
     "data": {
      "text/plain": [
       "(2752329, 2)"
      ]
     },
     "execution_count": 57,
     "metadata": {},
     "output_type": "execute_result"
    }
   ],
   "source": [
    "edges.shape"
   ]
  },
  {
   "cell_type": "code",
   "execution_count": null,
   "metadata": {},
   "outputs": [],
   "source": []
  }
 ],
 "metadata": {
  "kernelspec": {
   "display_name": "Python [python3]",
   "language": "python",
   "name": "Python [python3]"
  },
  "language_info": {
   "codemirror_mode": {
    "name": "ipython",
    "version": 3
   },
   "file_extension": ".py",
   "mimetype": "text/x-python",
   "name": "python",
   "nbconvert_exporter": "python",
   "pygments_lexer": "ipython3",
   "version": "3.5.2"
  }
 },
 "nbformat": 4,
 "nbformat_minor": 2
}
