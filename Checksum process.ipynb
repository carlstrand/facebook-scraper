{
 "cells": [
  {
   "cell_type": "code",
   "execution_count": 1,
   "metadata": {},
   "outputs": [],
   "source": [
    "import pandas as pd\n",
    "import os\n",
    "from functools import reduce"
   ]
  },
  {
   "cell_type": "code",
   "execution_count": 2,
   "metadata": {},
   "outputs": [
    {
     "data": {
      "text/plain": [
       "'./Crowd/resultados/vasquez_karla'"
      ]
     },
     "execution_count": 2,
     "metadata": {},
     "output_type": "execute_result"
    }
   ],
   "source": [
    "folder = 'vasquez_karla'\n",
    "PATH = os.path.join('./Crowd', 'resultados', folder)\n",
    "PATH"
   ]
  },
  {
   "cell_type": "code",
   "execution_count": 3,
   "metadata": {},
   "outputs": [
    {
     "data": {
      "text/plain": [
       "['2nd-degree_2018-06-21_040902.csv',\n",
       " '2nd-degree_2018-06-21_010945.csv',\n",
       " '2nd-degree-SKIPPED_2018-06-18_050250.csv',\n",
       " '2nd-degree-SKIPPED_2018-06-21_040902.csv',\n",
       " '1st-degree_2018-06-13_1717.csv',\n",
       " '2nd-degree-SKIPPED_2018-06-21_010945.csv',\n",
       " '2nd-degree_2018-06-18_050250.csv']"
      ]
     },
     "execution_count": 3,
     "metadata": {},
     "output_type": "execute_result"
    }
   ],
   "source": [
    "files = os.listdir(PATH)\n",
    "files"
   ]
  },
  {
   "cell_type": "markdown",
   "metadata": {},
   "source": [
    "## Checksum 1st degree"
   ]
  },
  {
   "cell_type": "code",
   "execution_count": 4,
   "metadata": {},
   "outputs": [
    {
     "data": {
      "text/plain": [
       "'1st-degree_2018-06-13_1717.csv'"
      ]
     },
     "execution_count": 4,
     "metadata": {},
     "output_type": "execute_result"
    }
   ],
   "source": [
    "first_degree_file = [f for f in files if f.startswith('1st')][0]\n",
    "first_degree_file"
   ]
  },
  {
   "cell_type": "code",
   "execution_count": 5,
   "metadata": {},
   "outputs": [
    {
     "name": "stdout",
     "output_type": "stream",
     "text": [
      "Total records: \n"
     ]
    },
    {
     "data": {
      "text/plain": [
       "(126, 7)"
      ]
     },
     "execution_count": 5,
     "metadata": {},
     "output_type": "execute_result"
    }
   ],
   "source": [
    "print('Total records: ')\n",
    "df_first = pd.read_csv(os.path.join(PATH, first_degree_file))\n",
    "total = df_first.shape\n",
    "total"
   ]
  },
  {
   "cell_type": "code",
   "execution_count": 6,
   "metadata": {
    "scrolled": true
   },
   "outputs": [
    {
     "name": "stdout",
     "output_type": "stream",
     "text": [
      "Total active records: \n"
     ]
    },
    {
     "data": {
      "text/plain": [
       "(125, 7)"
      ]
     },
     "execution_count": 6,
     "metadata": {},
     "output_type": "execute_result"
    }
   ],
   "source": [
    "print('Total active records: ')\n",
    "total_active = df_first[df_first['active'] == 1].shape\n",
    "total_active"
   ]
  },
  {
   "cell_type": "code",
   "execution_count": 7,
   "metadata": {
    "scrolled": true
   },
   "outputs": [
    {
     "name": "stdout",
     "output_type": "stream",
     "text": [
      "Processed: \n"
     ]
    },
    {
     "data": {
      "text/plain": [
       "(126, 7)"
      ]
     },
     "execution_count": 7,
     "metadata": {},
     "output_type": "execute_result"
    }
   ],
   "source": [
    "print('Processed: ')\n",
    "processed = df_first[df_first['processed']].shape\n",
    "processed"
   ]
  },
  {
   "cell_type": "code",
   "execution_count": 8,
   "metadata": {},
   "outputs": [
    {
     "name": "stdout",
     "output_type": "stream",
     "text": [
      "ALL RECORDS HAVE BEEN PROCESSED\n"
     ]
    }
   ],
   "source": [
    "assert total == processed\n",
    "print('ALL RECORDS HAVE BEEN PROCESSED')"
   ]
  },
  {
   "cell_type": "markdown",
   "metadata": {},
   "source": [
    "## Checksum 2nd degree"
   ]
  },
  {
   "cell_type": "code",
   "execution_count": 9,
   "metadata": {},
   "outputs": [
    {
     "data": {
      "text/plain": [
       "['2nd-degree_2018-06-21_040902.csv',\n",
       " '2nd-degree_2018-06-21_010945.csv',\n",
       " '2nd-degree_2018-06-18_050250.csv']"
      ]
     },
     "execution_count": 9,
     "metadata": {},
     "output_type": "execute_result"
    }
   ],
   "source": [
    "second_degree_files = [f for f in files if f.startswith('2nd') and f.find('SKIPPED') == -1]\n",
    "second_degree_files"
   ]
  },
  {
   "cell_type": "code",
   "execution_count": 10,
   "metadata": {},
   "outputs": [
    {
     "data": {
      "text/plain": [
       "['2nd-degree-SKIPPED_2018-06-18_050250.csv',\n",
       " '2nd-degree-SKIPPED_2018-06-21_040902.csv',\n",
       " '2nd-degree-SKIPPED_2018-06-21_010945.csv']"
      ]
     },
     "execution_count": 10,
     "metadata": {},
     "output_type": "execute_result"
    }
   ],
   "source": [
    "second_degree_skipped = [f for f in files if f.startswith('2nd') and f.find('SKIPPED') != -1]\n",
    "second_degree_skipped"
   ]
  },
  {
   "cell_type": "code",
   "execution_count": 11,
   "metadata": {},
   "outputs": [
    {
     "data": {
      "text/plain": [
       "['2nd-degree_2018-06-21_040902.csv',\n",
       " '2nd-degree_2018-06-21_010945.csv',\n",
       " '2nd-degree_2018-06-18_050250.csv']"
      ]
     },
     "execution_count": 11,
     "metadata": {},
     "output_type": "execute_result"
    }
   ],
   "source": [
    "second_degree_files"
   ]
  },
  {
   "cell_type": "code",
   "execution_count": 12,
   "metadata": {},
   "outputs": [
    {
     "data": {
      "text/plain": [
       "(54922, 5)"
      ]
     },
     "execution_count": 12,
     "metadata": {},
     "output_type": "execute_result"
    }
   ],
   "source": [
    "df = pd.concat([pd.read_csv(os.path.join(PATH, f)) for f in second_degree_files])\n",
    "df.shape     "
   ]
  },
  {
   "cell_type": "code",
   "execution_count": 13,
   "metadata": {},
   "outputs": [
    {
     "data": {
      "text/html": [
       "<div>\n",
       "<table border=\"1\" class=\"dataframe\">\n",
       "  <thead>\n",
       "    <tr style=\"text-align: right;\">\n",
       "      <th></th>\n",
       "      <th>A_id</th>\n",
       "      <th>B_id</th>\n",
       "      <th>A_name</th>\n",
       "      <th>B_name</th>\n",
       "      <th>active</th>\n",
       "    </tr>\n",
       "  </thead>\n",
       "  <tbody>\n",
       "    <tr>\n",
       "      <th>0</th>\n",
       "      <td>100002548807217</td>\n",
       "      <td>100001758042604</td>\n",
       "      <td>Patty Velecela</td>\n",
       "      <td>Cristhian Fabian Larrea</td>\n",
       "      <td>1</td>\n",
       "    </tr>\n",
       "    <tr>\n",
       "      <th>1</th>\n",
       "      <td>100002548807217</td>\n",
       "      <td>100003606766056</td>\n",
       "      <td>Patty Velecela</td>\n",
       "      <td>Denisse Mishell Vaca</td>\n",
       "      <td>1</td>\n",
       "    </tr>\n",
       "    <tr>\n",
       "      <th>2</th>\n",
       "      <td>100002548807217</td>\n",
       "      <td>100003895002749</td>\n",
       "      <td>Patty Velecela</td>\n",
       "      <td>Ely Yubi</td>\n",
       "      <td>1</td>\n",
       "    </tr>\n",
       "    <tr>\n",
       "      <th>3</th>\n",
       "      <td>100002548807217</td>\n",
       "      <td>100009485412126</td>\n",
       "      <td>Patty Velecela</td>\n",
       "      <td>EveLin Tenezaca</td>\n",
       "      <td>1</td>\n",
       "    </tr>\n",
       "    <tr>\n",
       "      <th>4</th>\n",
       "      <td>100002548807217</td>\n",
       "      <td>100002093177599</td>\n",
       "      <td>Patty Velecela</td>\n",
       "      <td>Ismael Zhindón</td>\n",
       "      <td>1</td>\n",
       "    </tr>\n",
       "  </tbody>\n",
       "</table>\n",
       "</div>"
      ],
      "text/plain": [
       "              A_id             B_id          A_name                   B_name  \\\n",
       "0  100002548807217  100001758042604  Patty Velecela  Cristhian Fabian Larrea   \n",
       "1  100002548807217  100003606766056  Patty Velecela     Denisse Mishell Vaca   \n",
       "2  100002548807217  100003895002749  Patty Velecela                 Ely Yubi   \n",
       "3  100002548807217  100009485412126  Patty Velecela          EveLin Tenezaca   \n",
       "4  100002548807217  100002093177599  Patty Velecela           Ismael Zhindón   \n",
       "\n",
       "   active  \n",
       "0       1  \n",
       "1       1  \n",
       "2       1  \n",
       "3       1  \n",
       "4       1  "
      ]
     },
     "execution_count": 13,
     "metadata": {},
     "output_type": "execute_result"
    }
   ],
   "source": [
    "df.head()"
   ]
  },
  {
   "cell_type": "code",
   "execution_count": 14,
   "metadata": {},
   "outputs": [
    {
     "name": "stdout",
     "output_type": "stream",
     "text": [
      "Checksum total\n"
     ]
    },
    {
     "data": {
      "text/plain": [
       "(125,)"
      ]
     },
     "execution_count": 14,
     "metadata": {},
     "output_type": "execute_result"
    }
   ],
   "source": [
    "print('Checksum total')\n",
    "checksum_total = df['A_id'].unique().shape\n",
    "checksum_total"
   ]
  },
  {
   "cell_type": "code",
   "execution_count": 15,
   "metadata": {},
   "outputs": [
    {
     "name": "stdout",
     "output_type": "stream",
     "text": [
      "Skipped records\n"
     ]
    },
    {
     "data": {
      "text/plain": [
       "(0, 1)"
      ]
     },
     "execution_count": 15,
     "metadata": {},
     "output_type": "execute_result"
    }
   ],
   "source": [
    "print('Skipped records')\n",
    "\n",
    "df_skipped = pd.concat([pd.read_csv(os.path.join(PATH, f)) for f in second_degree_skipped]) \\\n",
    "if len(second_degree_skipped) > 0 else pd.DataFrame()\n",
    "    \n",
    "df_skipped.shape"
   ]
  },
  {
   "cell_type": "code",
   "execution_count": 16,
   "metadata": {},
   "outputs": [
    {
     "name": "stdout",
     "output_type": "stream",
     "text": [
      "ALL ACTIVE RECORDS HAVE BEEN PROCESSED\n"
     ]
    }
   ],
   "source": [
    "assert checksum_total[0] + df_skipped.shape[0] == total_active[0]\n",
    "print('ALL ACTIVE RECORDS HAVE BEEN PROCESSED')"
   ]
  },
  {
   "cell_type": "code",
   "execution_count": 17,
   "metadata": {},
   "outputs": [],
   "source": [
    "# df[['A_name', 'B_id']].groupby('A_name', axis=0).count().sort_values('B_id', ascending=False)['B_id'].sum()"
   ]
  },
  {
   "cell_type": "code",
   "execution_count": 18,
   "metadata": {
    "scrolled": true
   },
   "outputs": [],
   "source": [
    "# df[['A_name', 'B_id']].groupby('A_name', axis=0).count().sort_values('B_id', ascending=False).reset_index()"
   ]
  },
  {
   "cell_type": "markdown",
   "metadata": {},
   "source": [
    "## Summary"
   ]
  },
  {
   "cell_type": "code",
   "execution_count": 19,
   "metadata": {},
   "outputs": [
    {
     "name": "stdout",
     "output_type": "stream",
     "text": [
      "Hola, \n",
      " Tus datos pasaron el proceso de chequeo. Has finalizado tu trabajo.\n",
      "\n",
      " Resumen:\n",
      "\tTotal records: 126\n",
      "\tTotal active records: 125 - Skipped: 0\n",
      "\tTotal 2nd degree records: 54922\n"
     ]
    }
   ],
   "source": [
    "print('Hola, \\n Tus datos pasaron el proceso de chequeo. Has finalizado tu trabajo.\\n\\n Resumen:')\n",
    "print('\\tTotal records: %.d' % total[0])\n",
    "print('\\tTotal active records: %.d - Skipped: %d' % (total_active[0], df_skipped.shape[0]))\n",
    "print('\\tTotal 2nd degree records: %.d' % df.shape[0])"
   ]
  },
  {
   "cell_type": "code",
   "execution_count": 20,
   "metadata": {},
   "outputs": [
    {
     "data": {
      "text/plain": [
       "100026739159504"
      ]
     },
     "execution_count": 20,
     "metadata": {},
     "output_type": "execute_result"
    }
   ],
   "source": [
    "df_first.loc[0, 'A_id']"
   ]
  },
  {
   "cell_type": "code",
   "execution_count": 21,
   "metadata": {},
   "outputs": [],
   "source": [
    "# https://www.facebook.com/100005543827430/friends?source_ref=pb_friends_tl"
   ]
  }
 ],
 "metadata": {
  "kernelspec": {
   "display_name": "Python [python3]",
   "language": "python",
   "name": "Python [python3]"
  },
  "language_info": {
   "codemirror_mode": {
    "name": "ipython",
    "version": 3
   },
   "file_extension": ".py",
   "mimetype": "text/x-python",
   "name": "python",
   "nbconvert_exporter": "python",
   "pygments_lexer": "ipython3",
   "version": "3.5.2"
  }
 },
 "nbformat": 4,
 "nbformat_minor": 2
}
