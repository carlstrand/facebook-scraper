{
 "cells": [
  {
   "cell_type": "code",
   "execution_count": 1,
   "metadata": {},
   "outputs": [],
   "source": [
    "import pandas as pd"
   ]
  },
  {
   "cell_type": "code",
   "execution_count": 2,
   "metadata": {},
   "outputs": [
    {
     "data": {
      "text/html": [
       "<div>\n",
       "<table border=\"1\" class=\"dataframe\">\n",
       "  <thead>\n",
       "    <tr style=\"text-align: right;\">\n",
       "      <th></th>\n",
       "      <th>A_id</th>\n",
       "      <th>B_id</th>\n",
       "      <th>A_name</th>\n",
       "      <th>B_name</th>\n",
       "      <th>active</th>\n",
       "    </tr>\n",
       "  </thead>\n",
       "  <tbody>\n",
       "    <tr>\n",
       "      <th>0</th>\n",
       "      <td>100003776767390</td>\n",
       "      <td>100004648242525</td>\n",
       "      <td>Josue Montero Banegas</td>\n",
       "      <td>Lucy Ortiz</td>\n",
       "      <td>1</td>\n",
       "    </tr>\n",
       "    <tr>\n",
       "      <th>1</th>\n",
       "      <td>100003776767390</td>\n",
       "      <td>100003693200009</td>\n",
       "      <td>Josue Montero Banegas</td>\n",
       "      <td>Decanato Facultad De Ingeniera Universidad De ...</td>\n",
       "      <td>1</td>\n",
       "    </tr>\n",
       "    <tr>\n",
       "      <th>2</th>\n",
       "      <td>100003776767390</td>\n",
       "      <td>100002756209020</td>\n",
       "      <td>Josue Montero Banegas</td>\n",
       "      <td>ByRn BrrEt</td>\n",
       "      <td>1</td>\n",
       "    </tr>\n",
       "    <tr>\n",
       "      <th>3</th>\n",
       "      <td>100003776767390</td>\n",
       "      <td>100003172620047</td>\n",
       "      <td>Josue Montero Banegas</td>\n",
       "      <td>Daya Pacheco</td>\n",
       "      <td>1</td>\n",
       "    </tr>\n",
       "    <tr>\n",
       "      <th>4</th>\n",
       "      <td>100003776767390</td>\n",
       "      <td>100002471486062</td>\n",
       "      <td>Josue Montero Banegas</td>\n",
       "      <td>Christian Godoy</td>\n",
       "      <td>1</td>\n",
       "    </tr>\n",
       "  </tbody>\n",
       "</table>\n",
       "</div>"
      ],
      "text/plain": [
       "              A_id             B_id                 A_name  \\\n",
       "0  100003776767390  100004648242525  Josue Montero Banegas   \n",
       "1  100003776767390  100003693200009  Josue Montero Banegas   \n",
       "2  100003776767390  100002756209020  Josue Montero Banegas   \n",
       "3  100003776767390  100003172620047  Josue Montero Banegas   \n",
       "4  100003776767390  100002471486062  Josue Montero Banegas   \n",
       "\n",
       "                                              B_name  active  \n",
       "0                                         Lucy Ortiz       1  \n",
       "1  Decanato Facultad De Ingeniera Universidad De ...       1  \n",
       "2                                         ByRn BrrEt       1  \n",
       "3                                       Daya Pacheco       1  \n",
       "4                                    Christian Godoy       1  "
      ]
     },
     "execution_count": 2,
     "metadata": {},
     "output_type": "execute_result"
    }
   ],
   "source": [
    "df = pd.read_csv('2nd-degree_2018-05-04_1535.csv')\n",
    "df.head()"
   ]
  },
  {
   "cell_type": "code",
   "execution_count": 4,
   "metadata": {},
   "outputs": [
    {
     "data": {
      "text/plain": [
       "(29442, 5)"
      ]
     },
     "execution_count": 4,
     "metadata": {},
     "output_type": "execute_result"
    }
   ],
   "source": [
    "df.shape"
   ]
  },
  {
   "cell_type": "code",
   "execution_count": 13,
   "metadata": {},
   "outputs": [],
   "source": [
    "df[['A_name', 'B_id']].groupby('A_name', axis=0).count().sort_values('B_id', ascending=False).reset_index().to_csv('summanry-2nd-degree-seeds.csv')"
   ]
  },
  {
   "cell_type": "code",
   "execution_count": null,
   "metadata": {},
   "outputs": [],
   "source": []
  },
  {
   "cell_type": "code",
   "execution_count": null,
   "metadata": {},
   "outputs": [],
   "source": []
  },
  {
   "cell_type": "code",
   "execution_count": null,
   "metadata": {},
   "outputs": [],
   "source": []
  },
  {
   "cell_type": "code",
   "execution_count": 2,
   "metadata": {},
   "outputs": [],
   "source": [
    "files = ['2nd-degree_2018-04-22_1242.csv', '2nd-degree_2018-04-22_1512.csv', '2nd-degree_2018-04-22_2110.csv']"
   ]
  },
  {
   "cell_type": "code",
   "execution_count": null,
   "metadata": {},
   "outputs": [],
   "source": []
  },
  {
   "cell_type": "code",
   "execution_count": 3,
   "metadata": {},
   "outputs": [
    {
     "data": {
      "text/html": [
       "<div>\n",
       "<table border=\"1\" class=\"dataframe\">\n",
       "  <thead>\n",
       "    <tr style=\"text-align: right;\">\n",
       "      <th></th>\n",
       "      <th>A_id</th>\n",
       "      <th>B_id</th>\n",
       "      <th>A_name</th>\n",
       "      <th>B_name</th>\n",
       "      <th>active</th>\n",
       "    </tr>\n",
       "  </thead>\n",
       "  <tbody>\n",
       "    <tr>\n",
       "      <th>0</th>\n",
       "      <td>528048242</td>\n",
       "      <td>715779096</td>\n",
       "      <td>Juan Felipe</td>\n",
       "      <td>Alvaro Neira Azqueta</td>\n",
       "      <td>1</td>\n",
       "    </tr>\n",
       "    <tr>\n",
       "      <th>1</th>\n",
       "      <td>528048242</td>\n",
       "      <td>675603732</td>\n",
       "      <td>Juan Felipe</td>\n",
       "      <td>Andres Monsalve</td>\n",
       "      <td>1</td>\n",
       "    </tr>\n",
       "    <tr>\n",
       "      <th>2</th>\n",
       "      <td>528048242</td>\n",
       "      <td>100009661262012</td>\n",
       "      <td>Juan Felipe</td>\n",
       "      <td>Cari Tobar</td>\n",
       "      <td>1</td>\n",
       "    </tr>\n",
       "    <tr>\n",
       "      <th>3</th>\n",
       "      <td>528048242</td>\n",
       "      <td>100002550124458</td>\n",
       "      <td>Juan Felipe</td>\n",
       "      <td>Caty Carrion Valarezo</td>\n",
       "      <td>1</td>\n",
       "    </tr>\n",
       "    <tr>\n",
       "      <th>4</th>\n",
       "      <td>528048242</td>\n",
       "      <td>615605502</td>\n",
       "      <td>Juan Felipe</td>\n",
       "      <td>Daniela Monsalve</td>\n",
       "      <td>1</td>\n",
       "    </tr>\n",
       "  </tbody>\n",
       "</table>\n",
       "</div>"
      ],
      "text/plain": [
       "        A_id             B_id       A_name                 B_name  active\n",
       "0  528048242        715779096  Juan Felipe   Alvaro Neira Azqueta       1\n",
       "1  528048242        675603732  Juan Felipe        Andres Monsalve       1\n",
       "2  528048242  100009661262012  Juan Felipe             Cari Tobar       1\n",
       "3  528048242  100002550124458  Juan Felipe  Caty Carrion Valarezo       1\n",
       "4  528048242        615605502  Juan Felipe       Daniela Monsalve       1"
      ]
     },
     "execution_count": 3,
     "metadata": {},
     "output_type": "execute_result"
    }
   ],
   "source": [
    "df = pd.read_csv(files[0])\n",
    "df.head()"
   ]
  },
  {
   "cell_type": "code",
   "execution_count": 4,
   "metadata": {},
   "outputs": [
    {
     "data": {
      "text/plain": [
       "(34044, 5)"
      ]
     },
     "execution_count": 4,
     "metadata": {},
     "output_type": "execute_result"
    }
   ],
   "source": [
    "df.shape"
   ]
  },
  {
   "cell_type": "code",
   "execution_count": 11,
   "metadata": {},
   "outputs": [
    {
     "data": {
      "text/plain": [
       "(23259, 5)"
      ]
     },
     "execution_count": 11,
     "metadata": {},
     "output_type": "execute_result"
    }
   ],
   "source": [
    "df.drop_duplicates(['B_id']).shape"
   ]
  },
  {
   "cell_type": "code",
   "execution_count": 5,
   "metadata": {},
   "outputs": [
    {
     "data": {
      "text/html": [
       "<div>\n",
       "<table border=\"1\" class=\"dataframe\">\n",
       "  <thead>\n",
       "    <tr style=\"text-align: right;\">\n",
       "      <th></th>\n",
       "      <th>A_id</th>\n",
       "      <th>B_id</th>\n",
       "      <th>A_name</th>\n",
       "      <th>B_name</th>\n",
       "      <th>active</th>\n",
       "    </tr>\n",
       "  </thead>\n",
       "  <tbody>\n",
       "    <tr>\n",
       "      <th>0</th>\n",
       "      <td>1507307063</td>\n",
       "      <td>730047153</td>\n",
       "      <td>Mnica Cabrera</td>\n",
       "      <td>Marcos G Fuentes</td>\n",
       "      <td>1</td>\n",
       "    </tr>\n",
       "    <tr>\n",
       "      <th>1</th>\n",
       "      <td>1507307063</td>\n",
       "      <td>745246356</td>\n",
       "      <td>Mnica Cabrera</td>\n",
       "      <td>Gabriela LC</td>\n",
       "      <td>1</td>\n",
       "    </tr>\n",
       "    <tr>\n",
       "      <th>2</th>\n",
       "      <td>1507307063</td>\n",
       "      <td>527323025</td>\n",
       "      <td>Mnica Cabrera</td>\n",
       "      <td>Pablo Medina</td>\n",
       "      <td>1</td>\n",
       "    </tr>\n",
       "    <tr>\n",
       "      <th>3</th>\n",
       "      <td>1507307063</td>\n",
       "      <td>100001618892544</td>\n",
       "      <td>Mnica Cabrera</td>\n",
       "      <td>Gaby Onate</td>\n",
       "      <td>1</td>\n",
       "    </tr>\n",
       "    <tr>\n",
       "      <th>4</th>\n",
       "      <td>1507307063</td>\n",
       "      <td>11608627</td>\n",
       "      <td>Mnica Cabrera</td>\n",
       "      <td>Mario Hidalgo</td>\n",
       "      <td>1</td>\n",
       "    </tr>\n",
       "  </tbody>\n",
       "</table>\n",
       "</div>"
      ],
      "text/plain": [
       "         A_id             B_id         A_name            B_name  active\n",
       "0  1507307063        730047153  Mnica Cabrera  Marcos G Fuentes       1\n",
       "1  1507307063        745246356  Mnica Cabrera       Gabriela LC       1\n",
       "2  1507307063        527323025  Mnica Cabrera      Pablo Medina       1\n",
       "3  1507307063  100001618892544  Mnica Cabrera        Gaby Onate       1\n",
       "4  1507307063         11608627  Mnica Cabrera     Mario Hidalgo       1"
      ]
     },
     "execution_count": 5,
     "metadata": {},
     "output_type": "execute_result"
    }
   ],
   "source": [
    "df_1 = pd.read_csv(files[1])\n",
    "df_1.head()"
   ]
  },
  {
   "cell_type": "code",
   "execution_count": 6,
   "metadata": {},
   "outputs": [
    {
     "data": {
      "text/plain": [
       "(110942, 5)"
      ]
     },
     "execution_count": 6,
     "metadata": {},
     "output_type": "execute_result"
    }
   ],
   "source": [
    "df_1.shape"
   ]
  },
  {
   "cell_type": "code",
   "execution_count": 12,
   "metadata": {},
   "outputs": [
    {
     "data": {
      "text/plain": [
       "(71304, 5)"
      ]
     },
     "execution_count": 12,
     "metadata": {},
     "output_type": "execute_result"
    }
   ],
   "source": [
    "df_1.drop_duplicates(['B_id']).shape"
   ]
  },
  {
   "cell_type": "code",
   "execution_count": 7,
   "metadata": {},
   "outputs": [
    {
     "data": {
      "text/html": [
       "<div>\n",
       "<table border=\"1\" class=\"dataframe\">\n",
       "  <thead>\n",
       "    <tr style=\"text-align: right;\">\n",
       "      <th></th>\n",
       "      <th>A_id</th>\n",
       "      <th>B_id</th>\n",
       "      <th>A_name</th>\n",
       "      <th>B_name</th>\n",
       "      <th>active</th>\n",
       "    </tr>\n",
       "  </thead>\n",
       "  <tbody>\n",
       "    <tr>\n",
       "      <th>0</th>\n",
       "      <td>100000934646354</td>\n",
       "      <td>1394970130</td>\n",
       "      <td>Mayra Paola Mndez</td>\n",
       "      <td>Andrea Guevara</td>\n",
       "      <td>1</td>\n",
       "    </tr>\n",
       "    <tr>\n",
       "      <th>1</th>\n",
       "      <td>100000934646354</td>\n",
       "      <td>754303807</td>\n",
       "      <td>Mayra Paola Mndez</td>\n",
       "      <td>Dani Barrera</td>\n",
       "      <td>1</td>\n",
       "    </tr>\n",
       "    <tr>\n",
       "      <th>2</th>\n",
       "      <td>100000934646354</td>\n",
       "      <td>549864809</td>\n",
       "      <td>Mayra Paola Mndez</td>\n",
       "      <td>Fernanda ChicaPesntez</td>\n",
       "      <td>1</td>\n",
       "    </tr>\n",
       "    <tr>\n",
       "      <th>3</th>\n",
       "      <td>100000934646354</td>\n",
       "      <td>100000141469042</td>\n",
       "      <td>Mayra Paola Mndez</td>\n",
       "      <td>Fernando Baculima</td>\n",
       "      <td>1</td>\n",
       "    </tr>\n",
       "    <tr>\n",
       "      <th>4</th>\n",
       "      <td>100000934646354</td>\n",
       "      <td>100001941468654</td>\n",
       "      <td>Mayra Paola Mndez</td>\n",
       "      <td>Kary Abad R</td>\n",
       "      <td>1</td>\n",
       "    </tr>\n",
       "  </tbody>\n",
       "</table>\n",
       "</div>"
      ],
      "text/plain": [
       "              A_id             B_id             A_name                 B_name  \\\n",
       "0  100000934646354       1394970130  Mayra Paola Mndez         Andrea Guevara   \n",
       "1  100000934646354        754303807  Mayra Paola Mndez           Dani Barrera   \n",
       "2  100000934646354        549864809  Mayra Paola Mndez  Fernanda ChicaPesntez   \n",
       "3  100000934646354  100000141469042  Mayra Paola Mndez      Fernando Baculima   \n",
       "4  100000934646354  100001941468654  Mayra Paola Mndez            Kary Abad R   \n",
       "\n",
       "   active  \n",
       "0       1  \n",
       "1       1  \n",
       "2       1  \n",
       "3       1  \n",
       "4       1  "
      ]
     },
     "execution_count": 7,
     "metadata": {},
     "output_type": "execute_result"
    }
   ],
   "source": [
    "df_2 = pd.read_csv(files[2])\n",
    "df_2.head()"
   ]
  },
  {
   "cell_type": "code",
   "execution_count": 8,
   "metadata": {},
   "outputs": [
    {
     "data": {
      "text/plain": [
       "(8055, 5)"
      ]
     },
     "execution_count": 8,
     "metadata": {},
     "output_type": "execute_result"
    }
   ],
   "source": [
    "df_2.shape"
   ]
  },
  {
   "cell_type": "code",
   "execution_count": 13,
   "metadata": {},
   "outputs": [
    {
     "data": {
      "text/plain": [
       "(7665, 5)"
      ]
     },
     "execution_count": 13,
     "metadata": {},
     "output_type": "execute_result"
    }
   ],
   "source": [
    "df_2.drop_duplicates(['B_id']).shape"
   ]
  },
  {
   "cell_type": "code",
   "execution_count": 10,
   "metadata": {},
   "outputs": [
    {
     "data": {
      "text/plain": [
       "153041"
      ]
     },
     "execution_count": 10,
     "metadata": {},
     "output_type": "execute_result"
    }
   ],
   "source": [
    "df.shape[0] + df_1.shape[0] + df_2.shape[0]"
   ]
  },
  {
   "cell_type": "code",
   "execution_count": null,
   "metadata": {},
   "outputs": [],
   "source": []
  },
  {
   "cell_type": "code",
   "execution_count": 14,
   "metadata": {},
   "outputs": [
    {
     "data": {
      "text/plain": [
       "102228"
      ]
     },
     "execution_count": 14,
     "metadata": {},
     "output_type": "execute_result"
    }
   ],
   "source": [
    "df.drop_duplicates(['B_id'], inplace=True)\n",
    "df_1.drop_duplicates(['B_id'], inplace=True)\n",
    "df_2.drop_duplicates(['B_id'], inplace=True)\n",
    "df.shape[0] + df_1.shape[0] + df_2.shape[0]"
   ]
  },
  {
   "cell_type": "code",
   "execution_count": 15,
   "metadata": {},
   "outputs": [
    {
     "data": {
      "text/plain": [
       "(23259, 5)"
      ]
     },
     "execution_count": 15,
     "metadata": {},
     "output_type": "execute_result"
    }
   ],
   "source": [
    "df_all = df.append(df_1).append(df_2)\n"
   ]
  },
  {
   "cell_type": "code",
   "execution_count": 16,
   "metadata": {},
   "outputs": [
    {
     "data": {
      "text/plain": [
       "(102228, 5)"
      ]
     },
     "execution_count": 16,
     "metadata": {},
     "output_type": "execute_result"
    }
   ],
   "source": [
    "df_all.shape"
   ]
  },
  {
   "cell_type": "code",
   "execution_count": 19,
   "metadata": {},
   "outputs": [],
   "source": [
    "df_all.drop_duplicates(['B_id'], inplace=True)\n"
   ]
  },
  {
   "cell_type": "code",
   "execution_count": 20,
   "metadata": {},
   "outputs": [
    {
     "data": {
      "text/plain": [
       "(88133, 5)"
      ]
     },
     "execution_count": 20,
     "metadata": {},
     "output_type": "execute_result"
    }
   ],
   "source": [
    "df_all.shape"
   ]
  },
  {
   "cell_type": "code",
   "execution_count": 21,
   "metadata": {},
   "outputs": [
    {
     "data": {
      "text/plain": [
       "Index(['A_id', 'B_id', 'A_name', 'B_name', 'active'], dtype='object')"
      ]
     },
     "execution_count": 21,
     "metadata": {},
     "output_type": "execute_result"
    }
   ],
   "source": [
    "df_all.columns"
   ]
  },
  {
   "cell_type": "code",
   "execution_count": 22,
   "metadata": {},
   "outputs": [],
   "source": [
    "df_all.to_csv('for-3rd-degree.csv', index=False)"
   ]
  },
  {
   "cell_type": "code",
   "execution_count": null,
   "metadata": {},
   "outputs": [],
   "source": []
  }
 ],
 "metadata": {
  "kernelspec": {
   "display_name": "Python [python3]",
   "language": "python",
   "name": "Python [python3]"
  },
  "language_info": {
   "codemirror_mode": {
    "name": "ipython",
    "version": 3
   },
   "file_extension": ".py",
   "mimetype": "text/x-python",
   "name": "python",
   "nbconvert_exporter": "python",
   "pygments_lexer": "ipython3",
   "version": "3.5.2"
  }
 },
 "nbformat": 4,
 "nbformat_minor": 2
}
