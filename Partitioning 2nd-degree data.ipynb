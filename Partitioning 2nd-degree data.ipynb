{
 "cells": [
  {
   "cell_type": "code",
   "execution_count": 1,
   "metadata": {},
   "outputs": [],
   "source": [
    "import pandas as pd\n",
    "import multiprocessing as mp\n",
    "import time"
   ]
  },
  {
   "cell_type": "code",
   "execution_count": 3,
   "metadata": {},
   "outputs": [],
   "source": [
    "df = pd.read_csv('2nd-degree-totiz.csv')\n",
    "df['processed'] = False"
   ]
  },
  {
   "cell_type": "code",
   "execution_count": 163,
   "metadata": {},
   "outputs": [
    {
     "data": {
      "text/html": [
       "<div>\n",
       "<table border=\"1\" class=\"dataframe\">\n",
       "  <thead>\n",
       "    <tr style=\"text-align: right;\">\n",
       "      <th></th>\n",
       "      <th>A_id</th>\n",
       "      <th>B_id</th>\n",
       "      <th>A_name</th>\n",
       "      <th>B_name</th>\n",
       "      <th>active</th>\n",
       "      <th>processed</th>\n",
       "    </tr>\n",
       "  </thead>\n",
       "  <tbody>\n",
       "    <tr>\n",
       "      <th>0</th>\n",
       "      <td>100003776767390</td>\n",
       "      <td>100004648242525</td>\n",
       "      <td>Josue Montero Banegas</td>\n",
       "      <td>Lucy Ortiz</td>\n",
       "      <td>1</td>\n",
       "      <td>False</td>\n",
       "    </tr>\n",
       "    <tr>\n",
       "      <th>1</th>\n",
       "      <td>100003776767390</td>\n",
       "      <td>100003693200009</td>\n",
       "      <td>Josue Montero Banegas</td>\n",
       "      <td>Decanato Facultad De Ingeniera Universidad De ...</td>\n",
       "      <td>1</td>\n",
       "      <td>False</td>\n",
       "    </tr>\n",
       "    <tr>\n",
       "      <th>2</th>\n",
       "      <td>100003776767390</td>\n",
       "      <td>100002756209020</td>\n",
       "      <td>Josue Montero Banegas</td>\n",
       "      <td>ByRn BrrEt</td>\n",
       "      <td>1</td>\n",
       "      <td>False</td>\n",
       "    </tr>\n",
       "    <tr>\n",
       "      <th>3</th>\n",
       "      <td>100003776767390</td>\n",
       "      <td>100003172620047</td>\n",
       "      <td>Josue Montero Banegas</td>\n",
       "      <td>Daya Pacheco</td>\n",
       "      <td>1</td>\n",
       "      <td>False</td>\n",
       "    </tr>\n",
       "    <tr>\n",
       "      <th>4</th>\n",
       "      <td>100003776767390</td>\n",
       "      <td>100002471486062</td>\n",
       "      <td>Josue Montero Banegas</td>\n",
       "      <td>Christian Godoy</td>\n",
       "      <td>1</td>\n",
       "      <td>False</td>\n",
       "    </tr>\n",
       "  </tbody>\n",
       "</table>\n",
       "</div>"
      ],
      "text/plain": [
       "              A_id             B_id                 A_name  \\\n",
       "0  100003776767390  100004648242525  Josue Montero Banegas   \n",
       "1  100003776767390  100003693200009  Josue Montero Banegas   \n",
       "2  100003776767390  100002756209020  Josue Montero Banegas   \n",
       "3  100003776767390  100003172620047  Josue Montero Banegas   \n",
       "4  100003776767390  100002471486062  Josue Montero Banegas   \n",
       "\n",
       "                                              B_name  active processed  \n",
       "0                                         Lucy Ortiz       1     False  \n",
       "1  Decanato Facultad De Ingeniera Universidad De ...       1     False  \n",
       "2                                         ByRn BrrEt       1     False  \n",
       "3                                       Daya Pacheco       1     False  \n",
       "4                                    Christian Godoy       1     False  "
      ]
     },
     "execution_count": 163,
     "metadata": {},
     "output_type": "execute_result"
    }
   ],
   "source": [
    "df.head()"
   ]
  },
  {
   "cell_type": "code",
   "execution_count": 165,
   "metadata": {},
   "outputs": [],
   "source": [
    "seeds = df['A_id'].unique()"
   ]
  },
  {
   "cell_type": "code",
   "execution_count": 166,
   "metadata": {},
   "outputs": [
    {
     "data": {
      "text/plain": [
       "(30,)"
      ]
     },
     "execution_count": 166,
     "metadata": {},
     "output_type": "execute_result"
    }
   ],
   "source": [
    "seeds.shape"
   ]
  },
  {
   "cell_type": "code",
   "execution_count": 167,
   "metadata": {},
   "outputs": [
    {
     "data": {
      "text/plain": [
       "(10,)"
      ]
     },
     "execution_count": 167,
     "metadata": {},
     "output_type": "execute_result"
    }
   ],
   "source": [
    "seeds[:10].shape"
   ]
  },
  {
   "cell_type": "code",
   "execution_count": 168,
   "metadata": {},
   "outputs": [
    {
     "data": {
      "text/plain": [
       "(10,)"
      ]
     },
     "execution_count": 168,
     "metadata": {},
     "output_type": "execute_result"
    }
   ],
   "source": [
    "seeds[10:20].shape"
   ]
  },
  {
   "cell_type": "code",
   "execution_count": 169,
   "metadata": {},
   "outputs": [
    {
     "data": {
      "text/plain": [
       "(10,)"
      ]
     },
     "execution_count": 169,
     "metadata": {},
     "output_type": "execute_result"
    }
   ],
   "source": [
    "seeds[20:].shape"
   ]
  },
  {
   "cell_type": "code",
   "execution_count": 170,
   "metadata": {},
   "outputs": [
    {
     "data": {
      "text/plain": [
       "(17573, 6)"
      ]
     },
     "execution_count": 170,
     "metadata": {},
     "output_type": "execute_result"
    }
   ],
   "source": [
    "df_1 = df[df['A_id'].isin(seeds[:10])].copy()\n",
    "df_1.shape"
   ]
  },
  {
   "cell_type": "code",
   "execution_count": 173,
   "metadata": {},
   "outputs": [],
   "source": [
    "df_1.to_csv('2nd-degree-partition01.csv')"
   ]
  },
  {
   "cell_type": "code",
   "execution_count": 171,
   "metadata": {},
   "outputs": [
    {
     "data": {
      "text/plain": [
       "(8948, 6)"
      ]
     },
     "execution_count": 171,
     "metadata": {},
     "output_type": "execute_result"
    }
   ],
   "source": [
    "df_2 = df[df['A_id'].isin(seeds[10:20])].copy()\n",
    "df_2.shape"
   ]
  },
  {
   "cell_type": "code",
   "execution_count": 176,
   "metadata": {},
   "outputs": [],
   "source": [
    "df_2.to_csv('2nd-degree-partition02.csv')"
   ]
  },
  {
   "cell_type": "code",
   "execution_count": 172,
   "metadata": {},
   "outputs": [
    {
     "data": {
      "text/plain": [
       "(2921, 6)"
      ]
     },
     "execution_count": 172,
     "metadata": {},
     "output_type": "execute_result"
    }
   ],
   "source": [
    "df_3 = df[df['A_id'].isin(seeds[20:])].copy()\n",
    "df_3.shape"
   ]
  },
  {
   "cell_type": "code",
   "execution_count": 177,
   "metadata": {},
   "outputs": [],
   "source": [
    "df_3.to_csv('2nd-degree-partition03.csv')"
   ]
  },
  {
   "cell_type": "code",
   "execution_count": 4,
   "metadata": {},
   "outputs": [],
   "source": [
    "df.to_csv('2nd-degree-totiz.csv', index_label='index')"
   ]
  },
  {
   "cell_type": "markdown",
   "metadata": {},
   "source": [
    "## Process"
   ]
  },
  {
   "cell_type": "code",
   "execution_count": 14,
   "metadata": {},
   "outputs": [],
   "source": [
    "to_process_csv = 'to_process.csv'\n",
    "workers = 3"
   ]
  },
  {
   "cell_type": "code",
   "execution_count": 8,
   "metadata": {},
   "outputs": [],
   "source": [
    "df_orig = pd.read_csv('2nd-degree-totiz.csv', index_col='index')"
   ]
  },
  {
   "cell_type": "code",
   "execution_count": 9,
   "metadata": {},
   "outputs": [
    {
     "data": {
      "text/html": [
       "<div>\n",
       "<table border=\"1\" class=\"dataframe\">\n",
       "  <thead>\n",
       "    <tr style=\"text-align: right;\">\n",
       "      <th></th>\n",
       "      <th>A_id</th>\n",
       "      <th>B_id</th>\n",
       "      <th>A_name</th>\n",
       "      <th>B_name</th>\n",
       "      <th>active</th>\n",
       "      <th>processed</th>\n",
       "      <th>index</th>\n",
       "    </tr>\n",
       "    <tr>\n",
       "      <th>index</th>\n",
       "      <th></th>\n",
       "      <th></th>\n",
       "      <th></th>\n",
       "      <th></th>\n",
       "      <th></th>\n",
       "      <th></th>\n",
       "      <th></th>\n",
       "    </tr>\n",
       "  </thead>\n",
       "  <tbody>\n",
       "    <tr>\n",
       "      <th>0</th>\n",
       "      <td>100003776767390</td>\n",
       "      <td>100004648242525</td>\n",
       "      <td>Josue Montero Banegas</td>\n",
       "      <td>Lucy Ortiz</td>\n",
       "      <td>1</td>\n",
       "      <td>False</td>\n",
       "      <td>0</td>\n",
       "    </tr>\n",
       "    <tr>\n",
       "      <th>1</th>\n",
       "      <td>100003776767390</td>\n",
       "      <td>100003693200009</td>\n",
       "      <td>Josue Montero Banegas</td>\n",
       "      <td>Decanato Facultad De Ingeniera Universidad De ...</td>\n",
       "      <td>1</td>\n",
       "      <td>False</td>\n",
       "      <td>1</td>\n",
       "    </tr>\n",
       "    <tr>\n",
       "      <th>2</th>\n",
       "      <td>100003776767390</td>\n",
       "      <td>100002756209020</td>\n",
       "      <td>Josue Montero Banegas</td>\n",
       "      <td>ByRn BrrEt</td>\n",
       "      <td>1</td>\n",
       "      <td>False</td>\n",
       "      <td>2</td>\n",
       "    </tr>\n",
       "    <tr>\n",
       "      <th>3</th>\n",
       "      <td>100003776767390</td>\n",
       "      <td>100003172620047</td>\n",
       "      <td>Josue Montero Banegas</td>\n",
       "      <td>Daya Pacheco</td>\n",
       "      <td>1</td>\n",
       "      <td>False</td>\n",
       "      <td>3</td>\n",
       "    </tr>\n",
       "    <tr>\n",
       "      <th>4</th>\n",
       "      <td>100003776767390</td>\n",
       "      <td>100002471486062</td>\n",
       "      <td>Josue Montero Banegas</td>\n",
       "      <td>Christian Godoy</td>\n",
       "      <td>1</td>\n",
       "      <td>False</td>\n",
       "      <td>4</td>\n",
       "    </tr>\n",
       "  </tbody>\n",
       "</table>\n",
       "</div>"
      ],
      "text/plain": [
       "                  A_id             B_id                 A_name  \\\n",
       "index                                                            \n",
       "0      100003776767390  100004648242525  Josue Montero Banegas   \n",
       "1      100003776767390  100003693200009  Josue Montero Banegas   \n",
       "2      100003776767390  100002756209020  Josue Montero Banegas   \n",
       "3      100003776767390  100003172620047  Josue Montero Banegas   \n",
       "4      100003776767390  100002471486062  Josue Montero Banegas   \n",
       "\n",
       "                                                  B_name  active processed  \\\n",
       "index                                                                        \n",
       "0                                             Lucy Ortiz       1     False   \n",
       "1      Decanato Facultad De Ingeniera Universidad De ...       1     False   \n",
       "2                                             ByRn BrrEt       1     False   \n",
       "3                                           Daya Pacheco       1     False   \n",
       "4                                        Christian Godoy       1     False   \n",
       "\n",
       "       index  \n",
       "index         \n",
       "0          0  \n",
       "1          1  \n",
       "2          2  \n",
       "3          3  \n",
       "4          4  "
      ]
     },
     "execution_count": 9,
     "metadata": {},
     "output_type": "execute_result"
    }
   ],
   "source": [
    "df_orig['index'] = df_orig.index\n",
    "df_orig.head()"
   ]
  },
  {
   "cell_type": "code",
   "execution_count": 11,
   "metadata": {},
   "outputs": [],
   "source": [
    "df_orig.loc[:10,'processed'] = True"
   ]
  },
  {
   "cell_type": "code",
   "execution_count": 19,
   "metadata": {},
   "outputs": [
    {
     "data": {
      "text/html": [
       "<div>\n",
       "<table border=\"1\" class=\"dataframe\">\n",
       "  <thead>\n",
       "    <tr style=\"text-align: right;\">\n",
       "      <th></th>\n",
       "      <th>A_id</th>\n",
       "      <th>B_id</th>\n",
       "      <th>A_name</th>\n",
       "      <th>B_name</th>\n",
       "      <th>active</th>\n",
       "      <th>processed</th>\n",
       "      <th>index</th>\n",
       "    </tr>\n",
       "    <tr>\n",
       "      <th>index</th>\n",
       "      <th></th>\n",
       "      <th></th>\n",
       "      <th></th>\n",
       "      <th></th>\n",
       "      <th></th>\n",
       "      <th></th>\n",
       "      <th></th>\n",
       "    </tr>\n",
       "  </thead>\n",
       "  <tbody>\n",
       "    <tr>\n",
       "      <th>11</th>\n",
       "      <td>100003776767390</td>\n",
       "      <td>100006532506358</td>\n",
       "      <td>Josue Montero Banegas</td>\n",
       "      <td>Fer Romero</td>\n",
       "      <td>1</td>\n",
       "      <td>False</td>\n",
       "      <td>11</td>\n",
       "    </tr>\n",
       "    <tr>\n",
       "      <th>12</th>\n",
       "      <td>100003776767390</td>\n",
       "      <td>100001965674297</td>\n",
       "      <td>Josue Montero Banegas</td>\n",
       "      <td>Paul Quintua Zaldua</td>\n",
       "      <td>1</td>\n",
       "      <td>False</td>\n",
       "      <td>12</td>\n",
       "    </tr>\n",
       "    <tr>\n",
       "      <th>13</th>\n",
       "      <td>100003776767390</td>\n",
       "      <td>100001387360679</td>\n",
       "      <td>Josue Montero Banegas</td>\n",
       "      <td>Daniel Parra Coronel</td>\n",
       "      <td>1</td>\n",
       "      <td>False</td>\n",
       "      <td>13</td>\n",
       "    </tr>\n",
       "    <tr>\n",
       "      <th>14</th>\n",
       "      <td>100003776767390</td>\n",
       "      <td>100013050617565</td>\n",
       "      <td>Josue Montero Banegas</td>\n",
       "      <td>Gabi Bernal</td>\n",
       "      <td>1</td>\n",
       "      <td>False</td>\n",
       "      <td>14</td>\n",
       "    </tr>\n",
       "    <tr>\n",
       "      <th>15</th>\n",
       "      <td>100003776767390</td>\n",
       "      <td>100007468062588</td>\n",
       "      <td>Josue Montero Banegas</td>\n",
       "      <td>Katherine Brito</td>\n",
       "      <td>1</td>\n",
       "      <td>False</td>\n",
       "      <td>15</td>\n",
       "    </tr>\n",
       "  </tbody>\n",
       "</table>\n",
       "</div>"
      ],
      "text/plain": [
       "                  A_id             B_id                 A_name  \\\n",
       "index                                                            \n",
       "11     100003776767390  100006532506358  Josue Montero Banegas   \n",
       "12     100003776767390  100001965674297  Josue Montero Banegas   \n",
       "13     100003776767390  100001387360679  Josue Montero Banegas   \n",
       "14     100003776767390  100013050617565  Josue Montero Banegas   \n",
       "15     100003776767390  100007468062588  Josue Montero Banegas   \n",
       "\n",
       "                     B_name  active processed  index  \n",
       "index                                                 \n",
       "11               Fer Romero       1     False     11  \n",
       "12      Paul Quintua Zaldua       1     False     12  \n",
       "13     Daniel Parra Coronel       1     False     13  \n",
       "14              Gabi Bernal       1     False     14  \n",
       "15          Katherine Brito       1     False     15  "
      ]
     },
     "execution_count": 19,
     "metadata": {},
     "output_type": "execute_result"
    }
   ],
   "source": [
    "df = df_orig[df_orig['processed'] == False].copy()\n",
    "df.head()"
   ]
  },
  {
   "cell_type": "code",
   "execution_count": 16,
   "metadata": {},
   "outputs": [],
   "source": [
    "df.to_csv(to_process_csv, index=False)"
   ]
  },
  {
   "cell_type": "code",
   "execution_count": 18,
   "metadata": {},
   "outputs": [
    {
     "data": {
      "text/html": [
       "<div>\n",
       "<table border=\"1\" class=\"dataframe\">\n",
       "  <thead>\n",
       "    <tr style=\"text-align: right;\">\n",
       "      <th></th>\n",
       "      <th>A_id</th>\n",
       "      <th>B_id</th>\n",
       "      <th>A_name</th>\n",
       "      <th>B_name</th>\n",
       "      <th>active</th>\n",
       "      <th>processed</th>\n",
       "    </tr>\n",
       "    <tr>\n",
       "      <th>index</th>\n",
       "      <th></th>\n",
       "      <th></th>\n",
       "      <th></th>\n",
       "      <th></th>\n",
       "      <th></th>\n",
       "      <th></th>\n",
       "    </tr>\n",
       "  </thead>\n",
       "  <tbody>\n",
       "    <tr>\n",
       "      <th>11</th>\n",
       "      <td>100003776767390</td>\n",
       "      <td>100006532506358</td>\n",
       "      <td>Josue Montero Banegas</td>\n",
       "      <td>Fer Romero</td>\n",
       "      <td>1</td>\n",
       "      <td>False</td>\n",
       "    </tr>\n",
       "    <tr>\n",
       "      <th>12</th>\n",
       "      <td>100003776767390</td>\n",
       "      <td>100001965674297</td>\n",
       "      <td>Josue Montero Banegas</td>\n",
       "      <td>Paul Quintua Zaldua</td>\n",
       "      <td>1</td>\n",
       "      <td>False</td>\n",
       "    </tr>\n",
       "    <tr>\n",
       "      <th>13</th>\n",
       "      <td>100003776767390</td>\n",
       "      <td>100001387360679</td>\n",
       "      <td>Josue Montero Banegas</td>\n",
       "      <td>Daniel Parra Coronel</td>\n",
       "      <td>1</td>\n",
       "      <td>False</td>\n",
       "    </tr>\n",
       "    <tr>\n",
       "      <th>14</th>\n",
       "      <td>100003776767390</td>\n",
       "      <td>100013050617565</td>\n",
       "      <td>Josue Montero Banegas</td>\n",
       "      <td>Gabi Bernal</td>\n",
       "      <td>1</td>\n",
       "      <td>False</td>\n",
       "    </tr>\n",
       "    <tr>\n",
       "      <th>15</th>\n",
       "      <td>100003776767390</td>\n",
       "      <td>100007468062588</td>\n",
       "      <td>Josue Montero Banegas</td>\n",
       "      <td>Katherine Brito</td>\n",
       "      <td>1</td>\n",
       "      <td>False</td>\n",
       "    </tr>\n",
       "  </tbody>\n",
       "</table>\n",
       "</div>"
      ],
      "text/plain": [
       "                  A_id             B_id                 A_name  \\\n",
       "index                                                            \n",
       "11     100003776767390  100006532506358  Josue Montero Banegas   \n",
       "12     100003776767390  100001965674297  Josue Montero Banegas   \n",
       "13     100003776767390  100001387360679  Josue Montero Banegas   \n",
       "14     100003776767390  100013050617565  Josue Montero Banegas   \n",
       "15     100003776767390  100007468062588  Josue Montero Banegas   \n",
       "\n",
       "                     B_name  active processed  \n",
       "index                                          \n",
       "11               Fer Romero       1     False  \n",
       "12      Paul Quintua Zaldua       1     False  \n",
       "13     Daniel Parra Coronel       1     False  \n",
       "14              Gabi Bernal       1     False  \n",
       "15          Katherine Brito       1     False  "
      ]
     },
     "execution_count": 18,
     "metadata": {},
     "output_type": "execute_result"
    }
   ],
   "source": [
    "df = pd.read_csv(to_process_csv, index_col='index')\n",
    "df.head()"
   ]
  },
  {
   "cell_type": "code",
   "execution_count": 103,
   "metadata": {},
   "outputs": [
    {
     "data": {
      "text/plain": [
       "(0, 6)"
      ]
     },
     "execution_count": 103,
     "metadata": {},
     "output_type": "execute_result"
    }
   ],
   "source": [
    "df_orig[df_orig['processed']].shape"
   ]
  },
  {
   "cell_type": "code",
   "execution_count": 62,
   "metadata": {},
   "outputs": [],
   "source": [
    "reader = pd.read_csv(to_process_csv, chunksize=50)"
   ]
  },
  {
   "cell_type": "code",
   "execution_count": 68,
   "metadata": {},
   "outputs": [
    {
     "name": "stdout",
     "output_type": "stream",
     "text": [
      "(50, 7)\n",
      "(50, 7)\n",
      "(50, 7)\n"
     ]
    }
   ],
   "source": [
    "for i in range(0, workers):\n",
    "    chunk = reader.get_chunk()\n",
    "    print(chunk.shape)\n",
    "    df_orig.loc[chunk.index, 'processed'] = True"
   ]
  },
  {
   "cell_type": "code",
   "execution_count": 137,
   "metadata": {},
   "outputs": [
    {
     "data": {
      "text/plain": [
       "(0, 6)"
      ]
     },
     "execution_count": 137,
     "metadata": {},
     "output_type": "execute_result"
    }
   ],
   "source": [
    "df_orig[df_orig['processed']].shape"
   ]
  },
  {
   "cell_type": "code",
   "execution_count": 152,
   "metadata": {},
   "outputs": [],
   "source": [
    "reader = pd.read_csv(to_process_csv, chunksize=50)"
   ]
  },
  {
   "cell_type": "code",
   "execution_count": 153,
   "metadata": {},
   "outputs": [],
   "source": [
    "def perform_parallel_process(df):\n",
    "    time.sleep(5)\n",
    "    print(df.shape)\n",
    "    return df.index"
   ]
  },
  {
   "cell_type": "code",
   "execution_count": 154,
   "metadata": {},
   "outputs": [
    {
     "name": "stdout",
     "output_type": "stream",
     "text": [
      "(50, 7)\n",
      "(50, 7)\n",
      "(50, 7)\n"
     ]
    }
   ],
   "source": [
    "pool = mp.Pool(workers)"
   ]
  },
  {
   "cell_type": "code",
   "execution_count": null,
   "metadata": {},
   "outputs": [],
   "source": [
    "pool."
   ]
  },
  {
   "cell_type": "code",
   "execution_count": 155,
   "metadata": {},
   "outputs": [],
   "source": [
    "processes = []\n",
    "for i in range(0, workers):\n",
    "    df_chunk = reader.get_chunk()\n",
    "    p = pool.apply_async(perform_parallel_process, [df_chunk])\n",
    "    processes.append(p)"
   ]
  },
  {
   "cell_type": "code",
   "execution_count": 156,
   "metadata": {},
   "outputs": [
    {
     "name": "stdout",
     "output_type": "stream",
     "text": [
      "RangeIndex(start=0, stop=50, step=1)\n",
      "RangeIndex(start=50, stop=100, step=1)\n",
      "RangeIndex(start=100, stop=150, step=1)\n"
     ]
    }
   ],
   "source": [
    "for p in processes:\n",
    "    print(p.get())"
   ]
  },
  {
   "cell_type": "code",
   "execution_count": 118,
   "metadata": {},
   "outputs": [
    {
     "data": {
      "text/plain": [
       "RangeIndex(start=0, stop=50, step=1)"
      ]
     },
     "execution_count": 118,
     "metadata": {},
     "output_type": "execute_result"
    }
   ],
   "source": [
    "a.get()"
   ]
  },
  {
   "cell_type": "code",
   "execution_count": null,
   "metadata": {},
   "outputs": [],
   "source": [
    "df_orig.loc[chunk.index, 'processed'] = True"
   ]
  },
  {
   "cell_type": "code",
   "execution_count": 128,
   "metadata": {},
   "outputs": [
    {
     "data": {
      "text/plain": [
       "(0, 6)"
      ]
     },
     "execution_count": 128,
     "metadata": {},
     "output_type": "execute_result"
    }
   ],
   "source": [
    "df_orig[df_orig['processed']].shape"
   ]
  },
  {
   "cell_type": "code",
   "execution_count": null,
   "metadata": {},
   "outputs": [],
   "source": []
  },
  {
   "cell_type": "code",
   "execution_count": 96,
   "metadata": {},
   "outputs": [
    {
     "data": {
      "text/plain": [
       "[{'A_id': 100003776767390, 'A_name': 'Josue Montero Banegas'}]"
      ]
     },
     "execution_count": 96,
     "metadata": {},
     "output_type": "execute_result"
    }
   ],
   "source": [
    "df[['A_name', 'A_id']][:1].to_dict('records')\n",
    "#.to_json(orient='records')\n"
   ]
  },
  {
   "cell_type": "code",
   "execution_count": 94,
   "metadata": {},
   "outputs": [],
   "source": [
    "df.to_dict??"
   ]
  },
  {
   "cell_type": "code",
   "execution_count": 93,
   "metadata": {},
   "outputs": [],
   "source": [
    "df.to_json??"
   ]
  },
  {
   "cell_type": "code",
   "execution_count": 69,
   "metadata": {
    "scrolled": true
   },
   "outputs": [
    {
     "data": {
      "text/plain": [
       "(150, 6)"
      ]
     },
     "execution_count": 69,
     "metadata": {},
     "output_type": "execute_result"
    }
   ],
   "source": [
    "df_orig[df_orig['processed']].shape"
   ]
  },
  {
   "cell_type": "code",
   "execution_count": 161,
   "metadata": {},
   "outputs": [
    {
     "data": {
      "text/plain": [
       "5.002885103225708"
      ]
     },
     "execution_count": 161,
     "metadata": {},
     "output_type": "execute_result"
    }
   ],
   "source": [
    "s = time.time()\n",
    "time.sleep(5)\n",
    "e = time.time()\n",
    "(e - s)"
   ]
  },
  {
   "cell_type": "code",
   "execution_count": 18,
   "metadata": {},
   "outputs": [],
   "source": [
    "processed = df[df['processed'] == False]"
   ]
  },
  {
   "cell_type": "code",
   "execution_count": 19,
   "metadata": {},
   "outputs": [
    {
     "data": {
      "text/plain": [
       "Int64Index([    0,     1,     2,     3,     4,     5,     6,     7,     8,\n",
       "                9,\n",
       "            ...\n",
       "            29432, 29433, 29434, 29435, 29436, 29437, 29438, 29439, 29440,\n",
       "            29441],\n",
       "           dtype='int64', name='index', length=29442)"
      ]
     },
     "execution_count": 19,
     "metadata": {},
     "output_type": "execute_result"
    }
   ],
   "source": [
    "processed.index"
   ]
  },
  {
   "cell_type": "code",
   "execution_count": 33,
   "metadata": {},
   "outputs": [],
   "source": [
    "df.loc[0:10, 'processed'] = True"
   ]
  },
  {
   "cell_type": "code",
   "execution_count": 44,
   "metadata": {},
   "outputs": [
    {
     "data": {
      "text/plain": [
       "[0, 1, 2, 3, 4, 5, 6, 7, 8, 9]"
      ]
     },
     "execution_count": 44,
     "metadata": {},
     "output_type": "execute_result"
    }
   ],
   "source": []
  },
  {
   "cell_type": "code",
   "execution_count": 35,
   "metadata": {},
   "outputs": [],
   "source": [
    "df.to_csv('2nd-degree-totiz.csv')"
   ]
  },
  {
   "cell_type": "code",
   "execution_count": 51,
   "metadata": {},
   "outputs": [
    {
     "data": {
      "text/html": [
       "<div>\n",
       "<table border=\"1\" class=\"dataframe\">\n",
       "  <thead>\n",
       "    <tr style=\"text-align: right;\">\n",
       "      <th></th>\n",
       "      <th>A_id</th>\n",
       "      <th>B_id</th>\n",
       "      <th>A_name</th>\n",
       "      <th>B_name</th>\n",
       "      <th>active</th>\n",
       "      <th>processed</th>\n",
       "    </tr>\n",
       "    <tr>\n",
       "      <th>index</th>\n",
       "      <th></th>\n",
       "      <th></th>\n",
       "      <th></th>\n",
       "      <th></th>\n",
       "      <th></th>\n",
       "      <th></th>\n",
       "    </tr>\n",
       "  </thead>\n",
       "  <tbody>\n",
       "    <tr>\n",
       "      <th>0</th>\n",
       "      <td>100003776767390</td>\n",
       "      <td>100004648242525</td>\n",
       "      <td>Josue Montero Banegas</td>\n",
       "      <td>Lucy Ortiz</td>\n",
       "      <td>1</td>\n",
       "      <td>True</td>\n",
       "    </tr>\n",
       "    <tr>\n",
       "      <th>1</th>\n",
       "      <td>100003776767390</td>\n",
       "      <td>100003693200009</td>\n",
       "      <td>Josue Montero Banegas</td>\n",
       "      <td>Decanato Facultad De Ingeniera Universidad De ...</td>\n",
       "      <td>1</td>\n",
       "      <td>True</td>\n",
       "    </tr>\n",
       "    <tr>\n",
       "      <th>2</th>\n",
       "      <td>100003776767390</td>\n",
       "      <td>100002756209020</td>\n",
       "      <td>Josue Montero Banegas</td>\n",
       "      <td>ByRn BrrEt</td>\n",
       "      <td>1</td>\n",
       "      <td>True</td>\n",
       "    </tr>\n",
       "    <tr>\n",
       "      <th>3</th>\n",
       "      <td>100003776767390</td>\n",
       "      <td>100003172620047</td>\n",
       "      <td>Josue Montero Banegas</td>\n",
       "      <td>Daya Pacheco</td>\n",
       "      <td>1</td>\n",
       "      <td>True</td>\n",
       "    </tr>\n",
       "    <tr>\n",
       "      <th>4</th>\n",
       "      <td>100003776767390</td>\n",
       "      <td>100002471486062</td>\n",
       "      <td>Josue Montero Banegas</td>\n",
       "      <td>Christian Godoy</td>\n",
       "      <td>1</td>\n",
       "      <td>True</td>\n",
       "    </tr>\n",
       "  </tbody>\n",
       "</table>\n",
       "</div>"
      ],
      "text/plain": [
       "                  A_id             B_id                 A_name  \\\n",
       "index                                                            \n",
       "0      100003776767390  100004648242525  Josue Montero Banegas   \n",
       "1      100003776767390  100003693200009  Josue Montero Banegas   \n",
       "2      100003776767390  100002756209020  Josue Montero Banegas   \n",
       "3      100003776767390  100003172620047  Josue Montero Banegas   \n",
       "4      100003776767390  100002471486062  Josue Montero Banegas   \n",
       "\n",
       "                                                  B_name  active processed  \n",
       "index                                                                       \n",
       "0                                             Lucy Ortiz       1      True  \n",
       "1      Decanato Facultad De Ingeniera Universidad De ...       1      True  \n",
       "2                                             ByRn BrrEt       1      True  \n",
       "3                                           Daya Pacheco       1      True  \n",
       "4                                        Christian Godoy       1      True  "
      ]
     },
     "execution_count": 51,
     "metadata": {},
     "output_type": "execute_result"
    }
   ],
   "source": [
    "df = pd.read_csv('2nd-degree-totiz.csv', index_col='index')\n",
    "df.head()"
   ]
  },
  {
   "cell_type": "code",
   "execution_count": 50,
   "metadata": {},
   "outputs": [],
   "source": [
    "pd.read_csv??"
   ]
  },
  {
   "cell_type": "code",
   "execution_count": 34,
   "metadata": {},
   "outputs": [
    {
     "data": {
      "text/html": [
       "<div>\n",
       "<table border=\"1\" class=\"dataframe\">\n",
       "  <thead>\n",
       "    <tr style=\"text-align: right;\">\n",
       "      <th></th>\n",
       "      <th>A_id</th>\n",
       "      <th>B_id</th>\n",
       "      <th>A_name</th>\n",
       "      <th>B_name</th>\n",
       "      <th>active</th>\n",
       "      <th>processed</th>\n",
       "    </tr>\n",
       "    <tr>\n",
       "      <th>index</th>\n",
       "      <th></th>\n",
       "      <th></th>\n",
       "      <th></th>\n",
       "      <th></th>\n",
       "      <th></th>\n",
       "      <th></th>\n",
       "    </tr>\n",
       "  </thead>\n",
       "  <tbody>\n",
       "    <tr>\n",
       "      <th>0</th>\n",
       "      <td>100003776767390</td>\n",
       "      <td>100004648242525</td>\n",
       "      <td>Josue Montero Banegas</td>\n",
       "      <td>Lucy Ortiz</td>\n",
       "      <td>1</td>\n",
       "      <td>True</td>\n",
       "    </tr>\n",
       "    <tr>\n",
       "      <th>1</th>\n",
       "      <td>100003776767390</td>\n",
       "      <td>100003693200009</td>\n",
       "      <td>Josue Montero Banegas</td>\n",
       "      <td>Decanato Facultad De Ingeniera Universidad De ...</td>\n",
       "      <td>1</td>\n",
       "      <td>True</td>\n",
       "    </tr>\n",
       "    <tr>\n",
       "      <th>2</th>\n",
       "      <td>100003776767390</td>\n",
       "      <td>100002756209020</td>\n",
       "      <td>Josue Montero Banegas</td>\n",
       "      <td>ByRn BrrEt</td>\n",
       "      <td>1</td>\n",
       "      <td>True</td>\n",
       "    </tr>\n",
       "    <tr>\n",
       "      <th>3</th>\n",
       "      <td>100003776767390</td>\n",
       "      <td>100003172620047</td>\n",
       "      <td>Josue Montero Banegas</td>\n",
       "      <td>Daya Pacheco</td>\n",
       "      <td>1</td>\n",
       "      <td>True</td>\n",
       "    </tr>\n",
       "    <tr>\n",
       "      <th>4</th>\n",
       "      <td>100003776767390</td>\n",
       "      <td>100002471486062</td>\n",
       "      <td>Josue Montero Banegas</td>\n",
       "      <td>Christian Godoy</td>\n",
       "      <td>1</td>\n",
       "      <td>True</td>\n",
       "    </tr>\n",
       "  </tbody>\n",
       "</table>\n",
       "</div>"
      ],
      "text/plain": [
       "                  A_id             B_id                 A_name  \\\n",
       "index                                                            \n",
       "0      100003776767390  100004648242525  Josue Montero Banegas   \n",
       "1      100003776767390  100003693200009  Josue Montero Banegas   \n",
       "2      100003776767390  100002756209020  Josue Montero Banegas   \n",
       "3      100003776767390  100003172620047  Josue Montero Banegas   \n",
       "4      100003776767390  100002471486062  Josue Montero Banegas   \n",
       "\n",
       "                                                  B_name  active processed  \n",
       "index                                                                       \n",
       "0                                             Lucy Ortiz       1      True  \n",
       "1      Decanato Facultad De Ingeniera Universidad De ...       1      True  \n",
       "2                                             ByRn BrrEt       1      True  \n",
       "3                                           Daya Pacheco       1      True  \n",
       "4                                        Christian Godoy       1      True  "
      ]
     },
     "execution_count": 34,
     "metadata": {},
     "output_type": "execute_result"
    }
   ],
   "source": [
    "df.head()"
   ]
  },
  {
   "cell_type": "code",
   "execution_count": 28,
   "metadata": {},
   "outputs": [
    {
     "data": {
      "text/plain": [
       "(0, 6)"
      ]
     },
     "execution_count": 28,
     "metadata": {},
     "output_type": "execute_result"
    }
   ],
   "source": [
    "df[df['processed'] == False].shape"
   ]
  },
  {
   "cell_type": "code",
   "execution_count": 3,
   "metadata": {},
   "outputs": [
    {
     "data": {
      "text/plain": [
       "<pandas.io.parsers.TextFileReader at 0x116d0e828>"
      ]
     },
     "execution_count": 3,
     "metadata": {},
     "output_type": "execute_result"
    }
   ],
   "source": [
    "reader = pd.read_csv('2nd-degree-totiz.csv', chunksize=50)\n",
    "reader"
   ]
  },
  {
   "cell_type": "code",
   "execution_count": 5,
   "metadata": {},
   "outputs": [],
   "source": [
    "for r in reader:\n",
    "    df = r\n",
    "    break"
   ]
  },
  {
   "cell_type": "code",
   "execution_count": 8,
   "metadata": {},
   "outputs": [
    {
     "data": {
      "text/html": [
       "<div>\n",
       "<table border=\"1\" class=\"dataframe\">\n",
       "  <thead>\n",
       "    <tr style=\"text-align: right;\">\n",
       "      <th></th>\n",
       "      <th>A_id</th>\n",
       "      <th>B_id</th>\n",
       "      <th>A_name</th>\n",
       "      <th>B_name</th>\n",
       "      <th>active</th>\n",
       "    </tr>\n",
       "  </thead>\n",
       "  <tbody>\n",
       "    <tr>\n",
       "      <th>50</th>\n",
       "      <td>100003776767390</td>\n",
       "      <td>100000391413779</td>\n",
       "      <td>Josue Montero Banegas</td>\n",
       "      <td>Pedro Iniguez Pena</td>\n",
       "      <td>1</td>\n",
       "    </tr>\n",
       "    <tr>\n",
       "      <th>51</th>\n",
       "      <td>100003776767390</td>\n",
       "      <td>100003327996514</td>\n",
       "      <td>Josue Montero Banegas</td>\n",
       "      <td>Daysi Vega Cuzco</td>\n",
       "      <td>1</td>\n",
       "    </tr>\n",
       "    <tr>\n",
       "      <th>52</th>\n",
       "      <td>100003776767390</td>\n",
       "      <td>100001271661278</td>\n",
       "      <td>Josue Montero Banegas</td>\n",
       "      <td>Mateo Echeverria P</td>\n",
       "      <td>1</td>\n",
       "    </tr>\n",
       "    <tr>\n",
       "      <th>53</th>\n",
       "      <td>100003776767390</td>\n",
       "      <td>100001356698845</td>\n",
       "      <td>Josue Montero Banegas</td>\n",
       "      <td>Francisco Jaramillo</td>\n",
       "      <td>1</td>\n",
       "    </tr>\n",
       "    <tr>\n",
       "      <th>54</th>\n",
       "      <td>100003776767390</td>\n",
       "      <td>100014470278500</td>\n",
       "      <td>Josue Montero Banegas</td>\n",
       "      <td>Carlos Quintua</td>\n",
       "      <td>1</td>\n",
       "    </tr>\n",
       "    <tr>\n",
       "      <th>55</th>\n",
       "      <td>100003776767390</td>\n",
       "      <td>100002022755095</td>\n",
       "      <td>Josue Montero Banegas</td>\n",
       "      <td>Maria Esther Guzmn</td>\n",
       "      <td>1</td>\n",
       "    </tr>\n",
       "    <tr>\n",
       "      <th>56</th>\n",
       "      <td>100003776767390</td>\n",
       "      <td>537111577</td>\n",
       "      <td>Josue Montero Banegas</td>\n",
       "      <td>Felipe Le</td>\n",
       "      <td>1</td>\n",
       "    </tr>\n",
       "    <tr>\n",
       "      <th>57</th>\n",
       "      <td>100003776767390</td>\n",
       "      <td>100006443442941</td>\n",
       "      <td>Josue Montero Banegas</td>\n",
       "      <td>Karla Bustamante</td>\n",
       "      <td>1</td>\n",
       "    </tr>\n",
       "    <tr>\n",
       "      <th>58</th>\n",
       "      <td>100003776767390</td>\n",
       "      <td>100002913593350</td>\n",
       "      <td>Josue Montero Banegas</td>\n",
       "      <td>Paul Flores</td>\n",
       "      <td>1</td>\n",
       "    </tr>\n",
       "    <tr>\n",
       "      <th>59</th>\n",
       "      <td>100003776767390</td>\n",
       "      <td>100002450400143</td>\n",
       "      <td>Josue Montero Banegas</td>\n",
       "      <td>Indie Pendiente</td>\n",
       "      <td>1</td>\n",
       "    </tr>\n",
       "    <tr>\n",
       "      <th>60</th>\n",
       "      <td>100003776767390</td>\n",
       "      <td>100001375373780</td>\n",
       "      <td>Josue Montero Banegas</td>\n",
       "      <td>Karla Salas Faican</td>\n",
       "      <td>1</td>\n",
       "    </tr>\n",
       "    <tr>\n",
       "      <th>61</th>\n",
       "      <td>100003776767390</td>\n",
       "      <td>100008970286613</td>\n",
       "      <td>Josue Montero Banegas</td>\n",
       "      <td>Camila Len Ros</td>\n",
       "      <td>1</td>\n",
       "    </tr>\n",
       "    <tr>\n",
       "      <th>62</th>\n",
       "      <td>100003776767390</td>\n",
       "      <td>100006341470092</td>\n",
       "      <td>Josue Montero Banegas</td>\n",
       "      <td>Marco Astudillo Zalamea</td>\n",
       "      <td>1</td>\n",
       "    </tr>\n",
       "    <tr>\n",
       "      <th>63</th>\n",
       "      <td>100003776767390</td>\n",
       "      <td>100003293000179</td>\n",
       "      <td>Josue Montero Banegas</td>\n",
       "      <td>Josefina Rojo</td>\n",
       "      <td>1</td>\n",
       "    </tr>\n",
       "    <tr>\n",
       "      <th>64</th>\n",
       "      <td>100003776767390</td>\n",
       "      <td>100002246588179</td>\n",
       "      <td>Josue Montero Banegas</td>\n",
       "      <td>Bryam Argello</td>\n",
       "      <td>1</td>\n",
       "    </tr>\n",
       "    <tr>\n",
       "      <th>65</th>\n",
       "      <td>100003776767390</td>\n",
       "      <td>100002203270213</td>\n",
       "      <td>Josue Montero Banegas</td>\n",
       "      <td>Rodrigo Matute Torres</td>\n",
       "      <td>1</td>\n",
       "    </tr>\n",
       "    <tr>\n",
       "      <th>66</th>\n",
       "      <td>100003776767390</td>\n",
       "      <td>100001482900923</td>\n",
       "      <td>Josue Montero Banegas</td>\n",
       "      <td>Michelle Mory</td>\n",
       "      <td>1</td>\n",
       "    </tr>\n",
       "    <tr>\n",
       "      <th>67</th>\n",
       "      <td>100003776767390</td>\n",
       "      <td>100004085673461</td>\n",
       "      <td>Josue Montero Banegas</td>\n",
       "      <td>Ana Paula Orellana</td>\n",
       "      <td>1</td>\n",
       "    </tr>\n",
       "    <tr>\n",
       "      <th>68</th>\n",
       "      <td>100003776767390</td>\n",
       "      <td>100001513936371</td>\n",
       "      <td>Josue Montero Banegas</td>\n",
       "      <td>Ely Astudillo</td>\n",
       "      <td>1</td>\n",
       "    </tr>\n",
       "    <tr>\n",
       "      <th>69</th>\n",
       "      <td>100003776767390</td>\n",
       "      <td>100001123966529</td>\n",
       "      <td>Josue Montero Banegas</td>\n",
       "      <td>Mara Paz Zhindn</td>\n",
       "      <td>1</td>\n",
       "    </tr>\n",
       "    <tr>\n",
       "      <th>70</th>\n",
       "      <td>100003776767390</td>\n",
       "      <td>100001331227113</td>\n",
       "      <td>Josue Montero Banegas</td>\n",
       "      <td>Selena Santos Campoverde</td>\n",
       "      <td>1</td>\n",
       "    </tr>\n",
       "    <tr>\n",
       "      <th>71</th>\n",
       "      <td>100003776767390</td>\n",
       "      <td>100001693057799</td>\n",
       "      <td>Josue Montero Banegas</td>\n",
       "      <td>Carlos Armijos Gmez</td>\n",
       "      <td>1</td>\n",
       "    </tr>\n",
       "    <tr>\n",
       "      <th>72</th>\n",
       "      <td>100003776767390</td>\n",
       "      <td>100003528882066</td>\n",
       "      <td>Josue Montero Banegas</td>\n",
       "      <td>ngela Nicole Briones</td>\n",
       "      <td>1</td>\n",
       "    </tr>\n",
       "    <tr>\n",
       "      <th>73</th>\n",
       "      <td>100003776767390</td>\n",
       "      <td>100006307893754</td>\n",
       "      <td>Josue Montero Banegas</td>\n",
       "      <td>Marti Salinas Vzquez</td>\n",
       "      <td>1</td>\n",
       "    </tr>\n",
       "    <tr>\n",
       "      <th>74</th>\n",
       "      <td>100003776767390</td>\n",
       "      <td>100000293038348</td>\n",
       "      <td>Josue Montero Banegas</td>\n",
       "      <td>Belem Ra</td>\n",
       "      <td>1</td>\n",
       "    </tr>\n",
       "    <tr>\n",
       "      <th>75</th>\n",
       "      <td>100003776767390</td>\n",
       "      <td>100002403073570</td>\n",
       "      <td>Josue Montero Banegas</td>\n",
       "      <td>Adrin Arvalo</td>\n",
       "      <td>1</td>\n",
       "    </tr>\n",
       "    <tr>\n",
       "      <th>76</th>\n",
       "      <td>100003776767390</td>\n",
       "      <td>100001576104029</td>\n",
       "      <td>Josue Montero Banegas</td>\n",
       "      <td>Sofy Alban</td>\n",
       "      <td>1</td>\n",
       "    </tr>\n",
       "    <tr>\n",
       "      <th>77</th>\n",
       "      <td>100003776767390</td>\n",
       "      <td>100000136041984</td>\n",
       "      <td>Josue Montero Banegas</td>\n",
       "      <td>Domenica Vera</td>\n",
       "      <td>1</td>\n",
       "    </tr>\n",
       "    <tr>\n",
       "      <th>78</th>\n",
       "      <td>100003776767390</td>\n",
       "      <td>100008465703640</td>\n",
       "      <td>Josue Montero Banegas</td>\n",
       "      <td>Anita Pesantez Picn</td>\n",
       "      <td>1</td>\n",
       "    </tr>\n",
       "    <tr>\n",
       "      <th>79</th>\n",
       "      <td>100003776767390</td>\n",
       "      <td>100005623411068</td>\n",
       "      <td>Josue Montero Banegas</td>\n",
       "      <td>Ame Pesantez</td>\n",
       "      <td>1</td>\n",
       "    </tr>\n",
       "    <tr>\n",
       "      <th>80</th>\n",
       "      <td>100003776767390</td>\n",
       "      <td>100003587374949</td>\n",
       "      <td>Josue Montero Banegas</td>\n",
       "      <td>Christian Zambrano Pea</td>\n",
       "      <td>1</td>\n",
       "    </tr>\n",
       "    <tr>\n",
       "      <th>81</th>\n",
       "      <td>100003776767390</td>\n",
       "      <td>100008627621467</td>\n",
       "      <td>Josue Montero Banegas</td>\n",
       "      <td>Laura Pabon</td>\n",
       "      <td>1</td>\n",
       "    </tr>\n",
       "    <tr>\n",
       "      <th>82</th>\n",
       "      <td>100003776767390</td>\n",
       "      <td>1558840611</td>\n",
       "      <td>Josue Montero Banegas</td>\n",
       "      <td>Paz Carpio Martnez</td>\n",
       "      <td>1</td>\n",
       "    </tr>\n",
       "    <tr>\n",
       "      <th>83</th>\n",
       "      <td>100003776767390</td>\n",
       "      <td>100002025291762</td>\n",
       "      <td>Josue Montero Banegas</td>\n",
       "      <td>Franklin Vazquez</td>\n",
       "      <td>1</td>\n",
       "    </tr>\n",
       "    <tr>\n",
       "      <th>84</th>\n",
       "      <td>100003776767390</td>\n",
       "      <td>100003865412215</td>\n",
       "      <td>Josue Montero Banegas</td>\n",
       "      <td>Cris Cabrera Ortiz</td>\n",
       "      <td>1</td>\n",
       "    </tr>\n",
       "    <tr>\n",
       "      <th>85</th>\n",
       "      <td>100003776767390</td>\n",
       "      <td>100007568258277</td>\n",
       "      <td>Josue Montero Banegas</td>\n",
       "      <td>Fernanda Sarmiento Cruz</td>\n",
       "      <td>1</td>\n",
       "    </tr>\n",
       "    <tr>\n",
       "      <th>86</th>\n",
       "      <td>100003776767390</td>\n",
       "      <td>100001256297979</td>\n",
       "      <td>Josue Montero Banegas</td>\n",
       "      <td>Nico Coello</td>\n",
       "      <td>1</td>\n",
       "    </tr>\n",
       "    <tr>\n",
       "      <th>87</th>\n",
       "      <td>100003776767390</td>\n",
       "      <td>100001505553245</td>\n",
       "      <td>Josue Montero Banegas</td>\n",
       "      <td>Domnica Cobos Rivera</td>\n",
       "      <td>1</td>\n",
       "    </tr>\n",
       "    <tr>\n",
       "      <th>88</th>\n",
       "      <td>100003776767390</td>\n",
       "      <td>100001033756556</td>\n",
       "      <td>Josue Montero Banegas</td>\n",
       "      <td>Beln Merchn</td>\n",
       "      <td>1</td>\n",
       "    </tr>\n",
       "    <tr>\n",
       "      <th>89</th>\n",
       "      <td>100003776767390</td>\n",
       "      <td>100001804484737</td>\n",
       "      <td>Josue Montero Banegas</td>\n",
       "      <td>Ismael Quezada</td>\n",
       "      <td>1</td>\n",
       "    </tr>\n",
       "    <tr>\n",
       "      <th>90</th>\n",
       "      <td>100003776767390</td>\n",
       "      <td>100002392316367</td>\n",
       "      <td>Josue Montero Banegas</td>\n",
       "      <td>Melanie Riera Martnez</td>\n",
       "      <td>1</td>\n",
       "    </tr>\n",
       "    <tr>\n",
       "      <th>91</th>\n",
       "      <td>100003776767390</td>\n",
       "      <td>100004798872768</td>\n",
       "      <td>Josue Montero Banegas</td>\n",
       "      <td>Ana Cris Pavon Guillen</td>\n",
       "      <td>1</td>\n",
       "    </tr>\n",
       "    <tr>\n",
       "      <th>92</th>\n",
       "      <td>100003776767390</td>\n",
       "      <td>100022695661186</td>\n",
       "      <td>Josue Montero Banegas</td>\n",
       "      <td>Anghie Bubll</td>\n",
       "      <td>1</td>\n",
       "    </tr>\n",
       "    <tr>\n",
       "      <th>93</th>\n",
       "      <td>100003776767390</td>\n",
       "      <td>100002072558194</td>\n",
       "      <td>Josue Montero Banegas</td>\n",
       "      <td>Mel Mogrovejo</td>\n",
       "      <td>1</td>\n",
       "    </tr>\n",
       "    <tr>\n",
       "      <th>94</th>\n",
       "      <td>100003776767390</td>\n",
       "      <td>100005030448103</td>\n",
       "      <td>Josue Montero Banegas</td>\n",
       "      <td>Emily Cordova Jerves</td>\n",
       "      <td>1</td>\n",
       "    </tr>\n",
       "    <tr>\n",
       "      <th>95</th>\n",
       "      <td>100003776767390</td>\n",
       "      <td>100005724739028</td>\n",
       "      <td>Josue Montero Banegas</td>\n",
       "      <td>Fatima Naveda</td>\n",
       "      <td>1</td>\n",
       "    </tr>\n",
       "    <tr>\n",
       "      <th>96</th>\n",
       "      <td>100003776767390</td>\n",
       "      <td>100009647237505</td>\n",
       "      <td>Josue Montero Banegas</td>\n",
       "      <td>Gatta Chvez</td>\n",
       "      <td>1</td>\n",
       "    </tr>\n",
       "    <tr>\n",
       "      <th>97</th>\n",
       "      <td>100003776767390</td>\n",
       "      <td>100001520992181</td>\n",
       "      <td>Josue Montero Banegas</td>\n",
       "      <td>Andres Moncayo Andrade</td>\n",
       "      <td>1</td>\n",
       "    </tr>\n",
       "    <tr>\n",
       "      <th>98</th>\n",
       "      <td>100003776767390</td>\n",
       "      <td>100001802978535</td>\n",
       "      <td>Josue Montero Banegas</td>\n",
       "      <td>Angie Pintado</td>\n",
       "      <td>1</td>\n",
       "    </tr>\n",
       "    <tr>\n",
       "      <th>99</th>\n",
       "      <td>100003776767390</td>\n",
       "      <td>100001185122296</td>\n",
       "      <td>Josue Montero Banegas</td>\n",
       "      <td>Jaime Bermeo</td>\n",
       "      <td>1</td>\n",
       "    </tr>\n",
       "  </tbody>\n",
       "</table>\n",
       "</div>"
      ],
      "text/plain": [
       "               A_id             B_id                 A_name  \\\n",
       "50  100003776767390  100000391413779  Josue Montero Banegas   \n",
       "51  100003776767390  100003327996514  Josue Montero Banegas   \n",
       "52  100003776767390  100001271661278  Josue Montero Banegas   \n",
       "53  100003776767390  100001356698845  Josue Montero Banegas   \n",
       "54  100003776767390  100014470278500  Josue Montero Banegas   \n",
       "55  100003776767390  100002022755095  Josue Montero Banegas   \n",
       "56  100003776767390        537111577  Josue Montero Banegas   \n",
       "57  100003776767390  100006443442941  Josue Montero Banegas   \n",
       "58  100003776767390  100002913593350  Josue Montero Banegas   \n",
       "59  100003776767390  100002450400143  Josue Montero Banegas   \n",
       "60  100003776767390  100001375373780  Josue Montero Banegas   \n",
       "61  100003776767390  100008970286613  Josue Montero Banegas   \n",
       "62  100003776767390  100006341470092  Josue Montero Banegas   \n",
       "63  100003776767390  100003293000179  Josue Montero Banegas   \n",
       "64  100003776767390  100002246588179  Josue Montero Banegas   \n",
       "65  100003776767390  100002203270213  Josue Montero Banegas   \n",
       "66  100003776767390  100001482900923  Josue Montero Banegas   \n",
       "67  100003776767390  100004085673461  Josue Montero Banegas   \n",
       "68  100003776767390  100001513936371  Josue Montero Banegas   \n",
       "69  100003776767390  100001123966529  Josue Montero Banegas   \n",
       "70  100003776767390  100001331227113  Josue Montero Banegas   \n",
       "71  100003776767390  100001693057799  Josue Montero Banegas   \n",
       "72  100003776767390  100003528882066  Josue Montero Banegas   \n",
       "73  100003776767390  100006307893754  Josue Montero Banegas   \n",
       "74  100003776767390  100000293038348  Josue Montero Banegas   \n",
       "75  100003776767390  100002403073570  Josue Montero Banegas   \n",
       "76  100003776767390  100001576104029  Josue Montero Banegas   \n",
       "77  100003776767390  100000136041984  Josue Montero Banegas   \n",
       "78  100003776767390  100008465703640  Josue Montero Banegas   \n",
       "79  100003776767390  100005623411068  Josue Montero Banegas   \n",
       "80  100003776767390  100003587374949  Josue Montero Banegas   \n",
       "81  100003776767390  100008627621467  Josue Montero Banegas   \n",
       "82  100003776767390       1558840611  Josue Montero Banegas   \n",
       "83  100003776767390  100002025291762  Josue Montero Banegas   \n",
       "84  100003776767390  100003865412215  Josue Montero Banegas   \n",
       "85  100003776767390  100007568258277  Josue Montero Banegas   \n",
       "86  100003776767390  100001256297979  Josue Montero Banegas   \n",
       "87  100003776767390  100001505553245  Josue Montero Banegas   \n",
       "88  100003776767390  100001033756556  Josue Montero Banegas   \n",
       "89  100003776767390  100001804484737  Josue Montero Banegas   \n",
       "90  100003776767390  100002392316367  Josue Montero Banegas   \n",
       "91  100003776767390  100004798872768  Josue Montero Banegas   \n",
       "92  100003776767390  100022695661186  Josue Montero Banegas   \n",
       "93  100003776767390  100002072558194  Josue Montero Banegas   \n",
       "94  100003776767390  100005030448103  Josue Montero Banegas   \n",
       "95  100003776767390  100005724739028  Josue Montero Banegas   \n",
       "96  100003776767390  100009647237505  Josue Montero Banegas   \n",
       "97  100003776767390  100001520992181  Josue Montero Banegas   \n",
       "98  100003776767390  100001802978535  Josue Montero Banegas   \n",
       "99  100003776767390  100001185122296  Josue Montero Banegas   \n",
       "\n",
       "                      B_name  active  \n",
       "50        Pedro Iniguez Pena       1  \n",
       "51          Daysi Vega Cuzco       1  \n",
       "52        Mateo Echeverria P       1  \n",
       "53       Francisco Jaramillo       1  \n",
       "54            Carlos Quintua       1  \n",
       "55        Maria Esther Guzmn       1  \n",
       "56                 Felipe Le       1  \n",
       "57          Karla Bustamante       1  \n",
       "58               Paul Flores       1  \n",
       "59           Indie Pendiente       1  \n",
       "60        Karla Salas Faican       1  \n",
       "61            Camila Len Ros       1  \n",
       "62   Marco Astudillo Zalamea       1  \n",
       "63             Josefina Rojo       1  \n",
       "64             Bryam Argello       1  \n",
       "65     Rodrigo Matute Torres       1  \n",
       "66             Michelle Mory       1  \n",
       "67        Ana Paula Orellana       1  \n",
       "68             Ely Astudillo       1  \n",
       "69           Mara Paz Zhindn       1  \n",
       "70  Selena Santos Campoverde       1  \n",
       "71       Carlos Armijos Gmez       1  \n",
       "72      ngela Nicole Briones       1  \n",
       "73      Marti Salinas Vzquez       1  \n",
       "74                  Belem Ra       1  \n",
       "75              Adrin Arvalo       1  \n",
       "76                Sofy Alban       1  \n",
       "77             Domenica Vera       1  \n",
       "78       Anita Pesantez Picn       1  \n",
       "79              Ame Pesantez       1  \n",
       "80    Christian Zambrano Pea       1  \n",
       "81               Laura Pabon       1  \n",
       "82        Paz Carpio Martnez       1  \n",
       "83          Franklin Vazquez       1  \n",
       "84        Cris Cabrera Ortiz       1  \n",
       "85   Fernanda Sarmiento Cruz       1  \n",
       "86               Nico Coello       1  \n",
       "87      Domnica Cobos Rivera       1  \n",
       "88               Beln Merchn       1  \n",
       "89            Ismael Quezada       1  \n",
       "90     Melanie Riera Martnez       1  \n",
       "91    Ana Cris Pavon Guillen       1  \n",
       "92              Anghie Bubll       1  \n",
       "93             Mel Mogrovejo       1  \n",
       "94      Emily Cordova Jerves       1  \n",
       "95             Fatima Naveda       1  \n",
       "96               Gatta Chvez       1  \n",
       "97    Andres Moncayo Andrade       1  \n",
       "98             Angie Pintado       1  \n",
       "99              Jaime Bermeo       1  "
      ]
     },
     "execution_count": 8,
     "metadata": {},
     "output_type": "execute_result"
    }
   ],
   "source": [
    "reader."
   ]
  },
  {
   "cell_type": "code",
   "execution_count": null,
   "metadata": {},
   "outputs": [],
   "source": []
  }
 ],
 "metadata": {
  "kernelspec": {
   "display_name": "Python [python3]",
   "language": "python",
   "name": "Python [python3]"
  },
  "language_info": {
   "codemirror_mode": {
    "name": "ipython",
    "version": 3
   },
   "file_extension": ".py",
   "mimetype": "text/x-python",
   "name": "python",
   "nbconvert_exporter": "python",
   "pygments_lexer": "ipython3",
   "version": "3.5.2"
  }
 },
 "nbformat": 4,
 "nbformat_minor": 2
}
